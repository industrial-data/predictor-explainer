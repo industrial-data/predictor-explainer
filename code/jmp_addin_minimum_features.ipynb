{
 "cells": [
  {
   "cell_type": "markdown",
   "metadata": {},
   "source": [
    "# Predictor Explainer"
   ]
  },
  {
   "cell_type": "markdown",
   "metadata": {},
   "source": [
    "The following Python code runs after the user has selected all the `X`'s, `y`, `Datetime` (optional), `Weights` (optional) and other parameters. [PyJMP](https://github.com/industrial-data/pyJMP) needs to be installed.\n",
    "\n",
    "The main idea is to find variables (`X`'s or tags) that correlate with at certain target (`y`). Intentionally, the purpose is to generate **descriptive models** to find interesting variables to visualize.\n",
    "\n",
    "More information can be found here:\n",
    "\n",
    "* [Predictor Explainer](https://github.com/industrial-data/predictor-explainer/pyJMP)\n",
    "* [Industrial data science – a review of machine learning applications for chemical and process industries](https://pubs.rsc.org/en/content/articlelanding/2022/re/d1re00541c)\n"
   ]
  },
  {
   "cell_type": "code",
   "execution_count": 1,
   "metadata": {
    "execution": {
     "iopub.execute_input": "2023-09-16T19:55:38.039302Z",
     "iopub.status.busy": "2023-09-16T19:55:38.039302Z",
     "iopub.status.idle": "2023-09-16T19:55:38.062389Z",
     "shell.execute_reply": "2023-09-16T19:55:38.061383Z"
    }
   },
   "outputs": [],
   "source": [
    "__author__ = 'Francisco Navarro; Juline Gillard'\n",
    "__license__ = \"BSD Clause-3\"\n",
    "__version__ = '2023.09.17'\n",
    "__maintainer__ = 'Francisco Navarro; Carlos Perez-Galvan'\n",
    "__status__ = 'beta'\n",
    "__url__ = 'https://github.com/industrial-data/predictor-explainer'"
   ]
  },
  {
   "cell_type": "markdown",
   "metadata": {},
   "source": [
    "# Loading Python libraries"
   ]
  },
  {
   "cell_type": "code",
   "execution_count": 2,
   "metadata": {
    "execution": {
     "iopub.execute_input": "2023-09-16T19:55:38.065414Z",
     "iopub.status.busy": "2023-09-16T19:55:38.065414Z",
     "iopub.status.idle": "2023-09-16T19:55:44.450622Z",
     "shell.execute_reply": "2023-09-16T19:55:44.449724Z"
    }
   },
   "outputs": [
    {
     "name": "stderr",
     "output_type": "stream",
     "text": [
      "Using `tqdm.autonotebook.tqdm` in notebook mode. Use `tqdm.tqdm` instead to force console mode (e.g. in jupyter console)\n",
      "\u001b[1mThe 'nopython' keyword argument was not supplied to the 'numba.jit' decorator. The implicit default value for this argument is currently False, but it will be changed to True in Numba 0.59.0. See https://numba.readthedocs.io/en/stable/reference/deprecation.html#deprecation-of-object-mode-fall-back-behaviour-when-using-jit for details.\u001b[0m\n",
      "\u001b[1mThe 'nopython' keyword argument was not supplied to the 'numba.jit' decorator. The implicit default value for this argument is currently False, but it will be changed to True in Numba 0.59.0. See https://numba.readthedocs.io/en/stable/reference/deprecation.html#deprecation-of-object-mode-fall-back-behaviour-when-using-jit for details.\u001b[0m\n",
      "\u001b[1mThe 'nopython' keyword argument was not supplied to the 'numba.jit' decorator. The implicit default value for this argument is currently False, but it will be changed to True in Numba 0.59.0. See https://numba.readthedocs.io/en/stable/reference/deprecation.html#deprecation-of-object-mode-fall-back-behaviour-when-using-jit for details.\u001b[0m\n",
      "\u001b[1mThe 'nopython' keyword argument was not supplied to the 'numba.jit' decorator. The implicit default value for this argument is currently False, but it will be changed to True in Numba 0.59.0. See https://numba.readthedocs.io/en/stable/reference/deprecation.html#deprecation-of-object-mode-fall-back-behaviour-when-using-jit for details.\u001b[0m\n",
      "\u001b[1mThe 'nopython' keyword argument was not supplied to the 'numba.jit' decorator. The implicit default value for this argument is currently False, but it will be changed to True in Numba 0.59.0. See https://numba.readthedocs.io/en/stable/reference/deprecation.html#deprecation-of-object-mode-fall-back-behaviour-when-using-jit for details.\u001b[0m\n"
     ]
    }
   ],
   "source": [
    "import numpy as np\n",
    "import pandas as pd\n",
    "import shap\n",
    "import umap\n",
    "import hdbscan\n",
    "from lightgbm.sklearn import LGBMRegressor\n",
    "import matplotlib.pyplot as plt\n",
    "import time\n",
    "import os\n",
    "import re\n",
    "\n",
    "# To deactivate plots, change to False\n",
    "is_plotting = True\n",
    "\n",
    "if is_plotting:\n",
    "    import umap.plot"
   ]
  },
  {
   "cell_type": "markdown",
   "metadata": {},
   "source": [
    "# Loading data from temp files (saved by JMP)"
   ]
  },
  {
   "cell_type": "markdown",
   "metadata": {},
   "source": [
    "<div class=\"alert alert-block alert-warning\">New CSV files are generated only when the user clicks OK in the Predictor Explainer add-in.</div>"
   ]
  },
  {
   "cell_type": "code",
   "execution_count": 3,
   "metadata": {
    "execution": {
     "iopub.execute_input": "2023-09-16T19:55:44.453659Z",
     "iopub.status.busy": "2023-09-16T19:55:44.453659Z",
     "iopub.status.idle": "2023-09-16T19:55:44.465910Z",
     "shell.execute_reply": "2023-09-16T19:55:44.464895Z"
    }
   },
   "outputs": [
    {
     "name": "stdout",
     "output_type": "stream",
     "text": [
      "C:\\Users\\fxn0478\\AppData\\Roaming\\SAS\\JMP\\Addins\\Predictor_Explainer\\temp\n"
     ]
    }
   ],
   "source": [
    "current_path = os.getcwd()\n",
    "\n",
    "temp_data_path = os.path.join(current_path, 'temp')\n",
    "\n",
    "print(temp_data_path)\n",
    "\n",
    "assert os.path.exists(temp_data_path), \"The 'temp' folder does not exist\" "
   ]
  },
  {
   "cell_type": "code",
   "execution_count": 4,
   "metadata": {
    "execution": {
     "iopub.execute_input": "2023-09-16T19:55:44.467938Z",
     "iopub.status.busy": "2023-09-16T19:55:44.467938Z",
     "iopub.status.idle": "2023-09-16T19:55:44.481041Z",
     "shell.execute_reply": "2023-09-16T19:55:44.480036Z"
    }
   },
   "outputs": [
    {
     "name": "stdout",
     "output_type": "stream",
     "text": [
      "Time column was not defined by user\n",
      "Weights were not defined by user\n"
     ]
    }
   ],
   "source": [
    "y_path_csv = os.path.join(temp_data_path,'y.csv')\n",
    "X_path_csv = os.path.join(temp_data_path,'X.csv')\n",
    "t_path_csv = os.path.join(temp_data_path,'t.csv')\n",
    "W_path_csv = os.path.join(temp_data_path,'W.csv')\n",
    "user_parameters_csv = os.path.join(temp_data_path,'user_parameters.csv')\n",
    "\n",
    "is_unspervised_learning = False\n",
    "\n",
    "try:\n",
    "    y = pd.read_csv(y_path_csv)\n",
    "except:\n",
    "    print(\"target column couldn't be loaded correctly, assuming unspervised learning \")\n",
    "    is_unspervised_learning = True\n",
    "\n",
    "try:\n",
    "    X = pd.read_csv(X_path_csv)\n",
    "    JMP_row_index = X['row_index'].copy();\n",
    "    del X['row_index']\n",
    "    \n",
    "except Exception:\n",
    "    print(\"X columns couldn't be loaded correctly, make sure they exist\")    \n",
    "\n",
    "try:\n",
    "    t = pd.read_csv(t_path_csv)\n",
    "except:\n",
    "    print('Time column was not defined by user')\n",
    "    \n",
    "try:\n",
    "    W = pd.read_csv(W_path_csv)\n",
    "except:\n",
    "    print('Weights were not defined by user')\n",
    "\n",
    "try:\n",
    "    JMP_user_parameters = pd.read_csv(user_parameters_csv)\n",
    "except:\n",
    "    print('User parameters not defined')"
   ]
  },
  {
   "cell_type": "code",
   "execution_count": 5,
   "metadata": {
    "execution": {
     "iopub.execute_input": "2023-09-16T19:55:44.483106Z",
     "iopub.status.busy": "2023-09-16T19:55:44.483106Z",
     "iopub.status.idle": "2023-09-16T19:55:44.496354Z",
     "shell.execute_reply": "2023-09-16T19:55:44.495345Z"
    }
   },
   "outputs": [
    {
     "name": "stdout",
     "output_type": "stream",
     "text": [
      "Options defined in JMP addin: \n",
      "\n",
      "    nTrees  SignalToNoiseRatio  NdimUMAP     metric  nrows\n",
      "0     100                   1         2  euclidean      1\n"
     ]
    }
   ],
   "source": [
    "print('Options defined in JMP addin: \\n\\n', JMP_user_parameters);"
   ]
  },
  {
   "cell_type": "code",
   "execution_count": 6,
   "metadata": {
    "execution": {
     "iopub.execute_input": "2023-09-16T19:55:44.499385Z",
     "iopub.status.busy": "2023-09-16T19:55:44.499385Z",
     "iopub.status.idle": "2023-09-16T19:55:44.527951Z",
     "shell.execute_reply": "2023-09-16T19:55:44.526931Z"
    }
   },
   "outputs": [],
   "source": [
    "# This function will be used at the end to create umap from RF selected features\n",
    "def umap_princ_components(X, n_umap_components=2, distance='euclidean'):\n",
    "    '''Takes not scaled X(obs,variables) and reduces to n_comp dimensions\n",
    "    by using umap reducer embedding.\n",
    "    \n",
    "    It returns a dataframe with the following columns:\n",
    "        n_comp (embeddings)\n",
    "        euclidan distance between consecutive rows\n",
    "        sum(n_comp)\n",
    "        labels for clusters\n",
    "        outlier score based on density'''\n",
    "    \n",
    "    #n_umap_components = 2 # default and paper\n",
    "    \n",
    "    print('N of umap dimensions', n_umap_components)\n",
    "    print('Distance metric:', distance)\n",
    "    \n",
    "    # Data prep\n",
    "    \n",
    "    # Umap does not handle NaNs (TODO improve)\n",
    "    # Simplest time series approach:\n",
    "    # forward filled and then back filled\n",
    "    # (!) Not compatible with batch data\n",
    "    X_unsupervised = X.copy()\n",
    "    \n",
    "    X_unsupervised = X_unsupervised.fillna(method='ffill')\n",
    "    X_unsupervised = X_unsupervised.fillna(method='bfill')\n",
    "    \n",
    "    # Drops any reamining column with of empty values\n",
    "    X_unsupervised = X_unsupervised.dropna(axis=1, how='all')\n",
    "    \n",
    "    # Robust normalization\n",
    "    X_unsupervised_normalized = ((X_unsupervised-X_unsupervised.quantile(0.03)) /\n",
    "                                 (X_unsupervised.quantile(0.97)-X_unsupervised.quantile(0.03)))\n",
    "    \n",
    "    # If values are fairly constant, (q97-q03) division returns NaN (TODO improve)\n",
    "    X_unsupervised_normalized = X_unsupervised_normalized.dropna(axis=1, how='any')\n",
    "\n",
    "    X_unsupervised_normalized = X_unsupervised_normalized.clip(0, 1)\n",
    "    \n",
    "    # Dimensionality reduction\n",
    "    \n",
    "    # Choice of parameters is indicated but also shared with\n",
    "    # paper https://doi.org/10.1016/j.conengprac.2019.104189\n",
    "    \n",
    "    # TODO Exploit AlignedUMAP for time varying data\n",
    "    # https://umap-learn.readthedocs.io/en/latest/aligned_umap_politics_demo.html\n",
    "    \n",
    "    if distance == 'euclidean':\n",
    "        y_distance = 'l2'\n",
    "    \n",
    "    if distance == 'manhattan':\n",
    "        y_distance = 'l1'\n",
    "        \n",
    "    if is_unspervised_learning:\n",
    "    \n",
    "        embedding = umap.UMAP(n_neighbors=15, # default and paper\n",
    "                            min_dist=0.1, # default and paper\n",
    "                            n_components=n_umap_components,\n",
    "                            metric=distance,\n",
    "                            output_metric=distance,\n",
    "                            target_metric=y_distance,\n",
    "                            #random_state=42, # uncomment to get slower but reproducible results\n",
    "                            ).fit(X_unsupervised_normalized)\n",
    "    else:\n",
    "        embedding = umap.UMAP(n_neighbors=15, # default and paper\n",
    "                            min_dist=0.1, # default and paper\n",
    "                            n_components=n_umap_components,\n",
    "                            metric=distance,\n",
    "                            output_metric=distance,\n",
    "                            target_metric=y_distance,\n",
    "                            #random_state=42, # uncomment to get slower but reproducible results\n",
    "                            ).fit(X_unsupervised_normalized, y=y) #add 'y' as function input\n",
    "        \n",
    "        \n",
    "        \n",
    "    # Generating umap column names\n",
    "    umap_col_names = ['umap'+str(i+1) for i in range(n_umap_components)]\n",
    "    \n",
    "    # Saving table\n",
    "    array_umap_components = embedding.embedding_\n",
    "    df_umap = pd.DataFrame(array_umap_components, columns=umap_col_names)\n",
    "    \n",
    "\n",
    "    \n",
    "    # Clustering and density analysis \n",
    "\n",
    "    n_observations = len(X_unsupervised_normalized.index)\n",
    "    percentual_threshold = 0.05 # % of data required to form cluster \n",
    "\n",
    "    # array_umap_components = df_umap.iloc[:,:n_umap_components].values\n",
    "\n",
    "    clusterer = hdbscan.HDBSCAN(\n",
    "                        min_samples=5,\n",
    "                        min_cluster_size=round(percentual_threshold*n_observations),\n",
    "                        ).fit(array_umap_components)\n",
    "\n",
    "    labels = clusterer.labels_  \n",
    "\n",
    "    are_clustered = (labels >= 0) #-1 are unclustered points\n",
    "    \n",
    "    df_umap['umap_clusters'] = labels\n",
    "    df_umap['outlier_score'] = clusterer.outlier_scores_\n",
    "    \n",
    "    # Row or time difference\n",
    "    diff_period = int(JMP_user_parameters['nrows'])\n",
    "    print('N of rows for finite differences', diff_period)\n",
    "    \n",
    "    df_umap_shift = df_umap.shift(periods = diff_period, axis = 0).copy()\n",
    "    \n",
    "    if distance == 'euclidean':\n",
    "        # 2-norm distance between consecutive points\n",
    "        df_umap['distance_diff_umap'] = np.linalg.norm(df_umap.values - df_umap_shift.values, axis=1)\n",
    "    \n",
    "    if distance == 'manhattan':\n",
    "        # 1-norm distance between consecutive points\n",
    "        df_umap['distance_diff_umap'] = np.linalg.norm(df_umap.values - df_umap_shift.values, ord=1, axis=1)\n",
    "    \n",
    "    \n",
    "    # IMPORTANT TODO we are adding all umap components as target function\n",
    "    # this assumes that dimensions have no importance (?) (unlike PCA)\n",
    "    df_umap['sum_umap_comp'] = df_umap.iloc[:,:n_umap_components].sum(axis=1)\n",
    "    \n",
    "    if not(is_unspervised_learning):\n",
    "        df_umap['y'] = y\n",
    "        \n",
    "    df_umap_path_csv = os.path.join(temp_data_path,'df_umap.csv')\n",
    "    \n",
    "    df_umap.index = JMP_row_index\n",
    "    df_umap.to_csv(df_umap_path_csv)\n",
    "    df_umap = df_umap.reset_index()\n",
    "\n",
    "    if is_plotting:\n",
    "        \n",
    "        if n_umap_components == 1:\n",
    "            cmap = plt.cm.Paired\n",
    "            df_umap.reset_index().plot.scatter(x='index', y='umap1', c=cmap(labels), xlabel='row index', ylabel='umap 1D')\n",
    "        \n",
    "        if n_umap_components == 2:\n",
    "            umap.plot.connectivity(embedding, show_points=True, labels=labels)\n",
    "        #df_umap.plot()\n",
    "        \n",
    "        if n_umap_components >= 3:\n",
    "            \n",
    "            #cmap = plt.cm.Paired\n",
    "            \n",
    "            df_umap_parallel = df_umap[umap_col_names+['umap_clusters']]\n",
    "            df_umap_parallel = df_umap_parallel[are_clustered]\n",
    "            \n",
    "            n_clusters = len(df_umap_parallel['umap_clusters'].unique())\n",
    "            \n",
    "            pd.plotting.parallel_coordinates(df_umap_parallel,\n",
    "                                             'umap_clusters')\n",
    "    \n",
    "    return df_umap, n_umap_components\n",
    "\n"
   ]
  },
  {
   "cell_type": "markdown",
   "metadata": {},
   "source": [
    "# Unsupervised step (only if target was not given by user)"
   ]
  },
  {
   "cell_type": "code",
   "execution_count": 7,
   "metadata": {
    "execution": {
     "iopub.execute_input": "2023-09-16T19:55:44.533948Z",
     "iopub.status.busy": "2023-09-16T19:55:44.532955Z",
     "iopub.status.idle": "2023-09-16T19:55:44.543752Z",
     "shell.execute_reply": "2023-09-16T19:55:44.542712Z"
    }
   },
   "outputs": [],
   "source": [
    "if is_unspervised_learning:\n",
    "    print('Reducing dimensionality and using such as target')\n",
    "    \n",
    "    n_umap_components = int(JMP_user_parameters['NdimUMAP'])\n",
    "    distance = str(JMP_user_parameters['metric'][0])\n",
    "    \n",
    "    df_umap, n_umap_components = umap_princ_components(X, n_umap_components, distance)\n",
    "    y = df_umap['sum_umap_comp'].copy().to_frame()"
   ]
  },
  {
   "cell_type": "markdown",
   "metadata": {},
   "source": [
    "# Data preparation"
   ]
  },
  {
   "cell_type": "code",
   "execution_count": 8,
   "metadata": {
    "execution": {
     "iopub.execute_input": "2023-09-16T19:55:44.548737Z",
     "iopub.status.busy": "2023-09-16T19:55:44.548737Z",
     "iopub.status.idle": "2023-09-16T19:55:44.576193Z",
     "shell.execute_reply": "2023-09-16T19:55:44.574161Z"
    }
   },
   "outputs": [
    {
     "name": "stdout",
     "output_type": "stream",
     "text": [
      "<class 'pandas.core.frame.DataFrame'>\n",
      "<class 'pandas.core.frame.DataFrame'>\n",
      "N_Rows column was not in X\n"
     ]
    }
   ],
   "source": [
    "# JMP loads everything as data frames\n",
    "\n",
    "def rename_df_columns(my_dataframe):\n",
    "    '''Light GBM does not support special JSON Characters in column names yet\n",
    "    This function susbtitues by _ all characters in column names that are not letters or numbers'''\n",
    "    \n",
    "    print(type(my_dataframe))\n",
    "    \n",
    "    # If errors, uncomment the following line.\n",
    "    my_dataframe = my_dataframe.rename(columns = lambda str_column:re.sub(r'[^A-Za-z0-9_]+','_', str_column))\n",
    "        \n",
    "    # Once fixed, the following reg. exp. will keep special JSON charaters\n",
    "    # my_data_frame = my_data_frame.rename(columns = lambda str_column:re.sub(r'[^\\x00-\\x7F]+','', str_column))\n",
    "    \n",
    "    return my_dataframe\n",
    "\n",
    "\n",
    "y = rename_df_columns(y) # removing special characters\n",
    "y = y.iloc[:, 0] # converting df to series\n",
    "\n",
    "\n",
    "tic = time.time()\n",
    "\n",
    "# Removes X columns that are non numeric (e.g. dates in X)\n",
    "X = X.select_dtypes(include=np.number)\n",
    "\n",
    "\n",
    "# Adding index in case a counter fits the data well (acumulation)\n",
    "# X['SHAP_row_index'] = range(1, len(X) + 1)\n",
    "X = rename_df_columns(X) # removing special characters\n",
    "\n",
    "if y.name in X.columns:\n",
    "    print('Output columns was given as input! Removing it from X')\n",
    "    del X[y.name]\n",
    "    \n",
    "try:\n",
    "    t;\n",
    "except NameError:\n",
    "    t_exists = False\n",
    "else:\n",
    "    t_exists = True\n",
    "    t = rename_df_columns(t) # removing special characters\n",
    "    \n",
    "    #t.to_csv('C:\\Temp\\JMP_time.csv')\n",
    "    \n",
    "    t.iloc[:,0] = pd.to_datetime(t.iloc[:,0], unit='s', origin=pd.Timestamp('1904-01-01'))\n",
    "    t = t.iloc[:, 0] # converting to series\n",
    "    \n",
    "try:\n",
    "    W;\n",
    "except NameError:\n",
    "    W_exists = False\n",
    "else:\n",
    "    W_exists = True\n",
    "    W = rename_df_columns(W) # removing special characters\n",
    "    \n",
    "    #W.to_csv('C:\\Temp\\JMP_weight.csv')\n",
    "    \n",
    "    W = W.iloc[:, 0] # converting to series\n",
    "\n",
    "\n",
    "    \n",
    "# print('X head: \\n', X.head())\n",
    "# print('X tail: \\n', X.tail())\n",
    "# print('y: \\n', y)\n",
    "\n",
    "assert (len(X) == len(y) ), 'Number of rows of X, y does not match!'\n",
    "\n",
    "#check if NaN exist in Y, W, t and remove corresponding X \n",
    "y.dropna(inplace=True)\n",
    "index_not_nan = y.index\n",
    "X = X.loc[index_not_nan,:]\n",
    "\n",
    "try:\n",
    "    X = X.drop('N_Rows', axis=1)\n",
    "except:\n",
    "    print(\"N_Rows column was not in X\")\n",
    "\n",
    "JMP_row_index = JMP_row_index[index_not_nan]\n",
    "\n",
    "if t_exists:\n",
    "    t = t[index_not_nan]\n",
    "    t.dropna(inplace=True)\n",
    "    t_index_not_nan = t.index\n",
    "    \n",
    "    y = y[t_index_not_nan]\n",
    "    X = X.loc[t_index_not_nan,:]\n",
    "    assert (len(X) == len(y) == len(t)), 'Number of rows of X, y and t does not match'\n",
    "\n",
    "if W_exists:\n",
    "    W = W[index_not_nan] \n",
    "    W.fillna(0)\n",
    "    W = (W-W.min())/(W.max()-W.min())\n",
    "    assert (len(X) == len(y) == len(W)), 'Number of rows of X, y and W does not match'\n",
    "    weights = W\n",
    "    \n",
    "# print('X head (after dropping NaN): \\n', X.head())\n",
    "# print('X tail (after dropping NaN): \\n', X.tail())\n",
    "# print('y (after dropping NaN): \\n', y)    "
   ]
  },
  {
   "cell_type": "code",
   "execution_count": 9,
   "metadata": {
    "execution": {
     "iopub.execute_input": "2023-09-16T19:55:44.581154Z",
     "iopub.status.busy": "2023-09-16T19:55:44.581154Z",
     "iopub.status.idle": "2023-09-16T19:55:44.607846Z",
     "shell.execute_reply": "2023-09-16T19:55:44.605837Z"
    }
   },
   "outputs": [
    {
     "data": {
      "text/html": [
       "<div>\n",
       "<style scoped>\n",
       "    .dataframe tbody tr th:only-of-type {\n",
       "        vertical-align: middle;\n",
       "    }\n",
       "\n",
       "    .dataframe tbody tr th {\n",
       "        vertical-align: top;\n",
       "    }\n",
       "\n",
       "    .dataframe thead th {\n",
       "        text-align: right;\n",
       "    }\n",
       "</style>\n",
       "<table border=\"1\" class=\"dataframe\">\n",
       "  <thead>\n",
       "    <tr style=\"text-align: right;\">\n",
       "      <th></th>\n",
       "      <th>yield</th>\n",
       "    </tr>\n",
       "  </thead>\n",
       "  <tbody>\n",
       "    <tr>\n",
       "      <th>0</th>\n",
       "      <td>69.400623</td>\n",
       "    </tr>\n",
       "    <tr>\n",
       "      <th>1</th>\n",
       "      <td>66.532666</td>\n",
       "    </tr>\n",
       "    <tr>\n",
       "      <th>2</th>\n",
       "      <td>71.102193</td>\n",
       "    </tr>\n",
       "    <tr>\n",
       "      <th>3</th>\n",
       "      <td>69.793481</td>\n",
       "    </tr>\n",
       "    <tr>\n",
       "      <th>4</th>\n",
       "      <td>71.489516</td>\n",
       "    </tr>\n",
       "    <tr>\n",
       "      <th>5</th>\n",
       "      <td>69.055089</td>\n",
       "    </tr>\n",
       "    <tr>\n",
       "      <th>6</th>\n",
       "      <td>69.161052</td>\n",
       "    </tr>\n",
       "    <tr>\n",
       "      <th>7</th>\n",
       "      <td>71.399191</td>\n",
       "    </tr>\n",
       "    <tr>\n",
       "      <th>8</th>\n",
       "      <td>70.125880</td>\n",
       "    </tr>\n",
       "    <tr>\n",
       "      <th>9</th>\n",
       "      <td>69.726319</td>\n",
       "    </tr>\n",
       "  </tbody>\n",
       "</table>\n",
       "</div>"
      ],
      "text/plain": [
       "       yield\n",
       "0  69.400623\n",
       "1  66.532666\n",
       "2  71.102193\n",
       "3  69.793481\n",
       "4  71.489516\n",
       "5  69.055089\n",
       "6  69.161052\n",
       "7  71.399191\n",
       "8  70.125880\n",
       "9  69.726319"
      ]
     },
     "execution_count": 9,
     "metadata": {},
     "output_type": "execute_result"
    }
   ],
   "source": [
    "y.to_frame().head(10) # head (after dropping NaNs)"
   ]
  },
  {
   "cell_type": "code",
   "execution_count": 10,
   "metadata": {
    "execution": {
     "iopub.execute_input": "2023-09-16T19:55:44.613864Z",
     "iopub.status.busy": "2023-09-16T19:55:44.613864Z",
     "iopub.status.idle": "2023-09-16T19:55:44.637855Z",
     "shell.execute_reply": "2023-09-16T19:55:44.636849Z"
    }
   },
   "outputs": [
    {
     "data": {
      "text/html": [
       "<div>\n",
       "<style scoped>\n",
       "    .dataframe tbody tr th:only-of-type {\n",
       "        vertical-align: middle;\n",
       "    }\n",
       "\n",
       "    .dataframe tbody tr th {\n",
       "        vertical-align: top;\n",
       "    }\n",
       "\n",
       "    .dataframe thead th {\n",
       "        text-align: right;\n",
       "    }\n",
       "</style>\n",
       "<table border=\"1\" class=\"dataframe\">\n",
       "  <thead>\n",
       "    <tr style=\"text-align: right;\">\n",
       "      <th></th>\n",
       "      <th>Temp1</th>\n",
       "      <th>FlowC1</th>\n",
       "      <th>TempC9</th>\n",
       "      <th>TempC3</th>\n",
       "      <th>PressureC1</th>\n",
       "      <th>Temp4</th>\n",
       "      <th>Temp11</th>\n",
       "      <th>OC1</th>\n",
       "      <th>FlowC3</th>\n",
       "      <th>Random_Normal</th>\n",
       "    </tr>\n",
       "  </thead>\n",
       "  <tbody>\n",
       "    <tr>\n",
       "      <th>0</th>\n",
       "      <td>139.9857</td>\n",
       "      <td>432.0636</td>\n",
       "      <td>86.6133</td>\n",
       "      <td>180.5578</td>\n",
       "      <td>215.0627</td>\n",
       "      <td>187.4331</td>\n",
       "      <td>30.8983</td>\n",
       "      <td>3.1033</td>\n",
       "      <td>8.6279</td>\n",
       "      <td>-1.336678</td>\n",
       "    </tr>\n",
       "    <tr>\n",
       "      <th>1</th>\n",
       "      <td>131.0470</td>\n",
       "      <td>487.4029</td>\n",
       "      <td>97.6100</td>\n",
       "      <td>172.6575</td>\n",
       "      <td>205.0999</td>\n",
       "      <td>179.5089</td>\n",
       "      <td>31.9099</td>\n",
       "      <td>4.7408</td>\n",
       "      <td>8.7662</td>\n",
       "      <td>1.086396</td>\n",
       "    </tr>\n",
       "    <tr>\n",
       "      <th>2</th>\n",
       "      <td>118.2666</td>\n",
       "      <td>437.3516</td>\n",
       "      <td>88.4967</td>\n",
       "      <td>165.9400</td>\n",
       "      <td>205.0304</td>\n",
       "      <td>172.9262</td>\n",
       "      <td>29.9165</td>\n",
       "      <td>4.2925</td>\n",
       "      <td>8.5319</td>\n",
       "      <td>-0.960064</td>\n",
       "    </tr>\n",
       "    <tr>\n",
       "      <th>3</th>\n",
       "      <td>118.1769</td>\n",
       "      <td>481.8314</td>\n",
       "      <td>95.3483</td>\n",
       "      <td>167.2085</td>\n",
       "      <td>205.2561</td>\n",
       "      <td>174.2338</td>\n",
       "      <td>30.6229</td>\n",
       "      <td>4.4558</td>\n",
       "      <td>8.6260</td>\n",
       "      <td>-0.793011</td>\n",
       "    </tr>\n",
       "    <tr>\n",
       "      <th>4</th>\n",
       "      <td>120.7891</td>\n",
       "      <td>412.6471</td>\n",
       "      <td>82.9533</td>\n",
       "      <td>167.0326</td>\n",
       "      <td>205.0883</td>\n",
       "      <td>173.9681</td>\n",
       "      <td>29.4977</td>\n",
       "      <td>3.4600</td>\n",
       "      <td>8.5939</td>\n",
       "      <td>-0.263874</td>\n",
       "    </tr>\n",
       "    <tr>\n",
       "      <th>5</th>\n",
       "      <td>121.7929</td>\n",
       "      <td>470.8127</td>\n",
       "      <td>93.5633</td>\n",
       "      <td>169.7501</td>\n",
       "      <td>203.8242</td>\n",
       "      <td>176.3803</td>\n",
       "      <td>29.8406</td>\n",
       "      <td>4.5900</td>\n",
       "      <td>8.4507</td>\n",
       "      <td>-1.184972</td>\n",
       "    </tr>\n",
       "    <tr>\n",
       "      <th>6</th>\n",
       "      <td>120.8903</td>\n",
       "      <td>493.8452</td>\n",
       "      <td>99.8533</td>\n",
       "      <td>169.9978</td>\n",
       "      <td>204.1858</td>\n",
       "      <td>176.8023</td>\n",
       "      <td>35.5254</td>\n",
       "      <td>4.1296</td>\n",
       "      <td>8.4093</td>\n",
       "      <td>-1.407459</td>\n",
       "    </tr>\n",
       "    <tr>\n",
       "      <th>7</th>\n",
       "      <td>119.4786</td>\n",
       "      <td>429.0580</td>\n",
       "      <td>85.8233</td>\n",
       "      <td>166.9747</td>\n",
       "      <td>204.3738</td>\n",
       "      <td>173.6503</td>\n",
       "      <td>31.1274</td>\n",
       "      <td>3.7133</td>\n",
       "      <td>8.4414</td>\n",
       "      <td>0.067741</td>\n",
       "    </tr>\n",
       "    <tr>\n",
       "      <th>8</th>\n",
       "      <td>124.8390</td>\n",
       "      <td>414.0616</td>\n",
       "      <td>82.6411</td>\n",
       "      <td>171.4144</td>\n",
       "      <td>204.1163</td>\n",
       "      <td>178.0371</td>\n",
       "      <td>31.7608</td>\n",
       "      <td>3.0900</td>\n",
       "      <td>8.3289</td>\n",
       "      <td>-1.544540</td>\n",
       "    </tr>\n",
       "    <tr>\n",
       "      <th>9</th>\n",
       "      <td>121.6020</td>\n",
       "      <td>505.6681</td>\n",
       "      <td>99.9829</td>\n",
       "      <td>169.5163</td>\n",
       "      <td>204.1510</td>\n",
       "      <td>176.3334</td>\n",
       "      <td>32.3697</td>\n",
       "      <td>4.6217</td>\n",
       "      <td>8.5193</td>\n",
       "      <td>-0.155491</td>\n",
       "    </tr>\n",
       "  </tbody>\n",
       "</table>\n",
       "</div>"
      ],
      "text/plain": [
       "      Temp1    FlowC1   TempC9    TempC3  PressureC1     Temp4   Temp11  \\\n",
       "0  139.9857  432.0636  86.6133  180.5578    215.0627  187.4331  30.8983   \n",
       "1  131.0470  487.4029  97.6100  172.6575    205.0999  179.5089  31.9099   \n",
       "2  118.2666  437.3516  88.4967  165.9400    205.0304  172.9262  29.9165   \n",
       "3  118.1769  481.8314  95.3483  167.2085    205.2561  174.2338  30.6229   \n",
       "4  120.7891  412.6471  82.9533  167.0326    205.0883  173.9681  29.4977   \n",
       "5  121.7929  470.8127  93.5633  169.7501    203.8242  176.3803  29.8406   \n",
       "6  120.8903  493.8452  99.8533  169.9978    204.1858  176.8023  35.5254   \n",
       "7  119.4786  429.0580  85.8233  166.9747    204.3738  173.6503  31.1274   \n",
       "8  124.8390  414.0616  82.6411  171.4144    204.1163  178.0371  31.7608   \n",
       "9  121.6020  505.6681  99.9829  169.5163    204.1510  176.3334  32.3697   \n",
       "\n",
       "      OC1  FlowC3  Random_Normal  \n",
       "0  3.1033  8.6279      -1.336678  \n",
       "1  4.7408  8.7662       1.086396  \n",
       "2  4.2925  8.5319      -0.960064  \n",
       "3  4.4558  8.6260      -0.793011  \n",
       "4  3.4600  8.5939      -0.263874  \n",
       "5  4.5900  8.4507      -1.184972  \n",
       "6  4.1296  8.4093      -1.407459  \n",
       "7  3.7133  8.4414       0.067741  \n",
       "8  3.0900  8.3289      -1.544540  \n",
       "9  4.6217  8.5193      -0.155491  "
      ]
     },
     "execution_count": 10,
     "metadata": {},
     "output_type": "execute_result"
    }
   ],
   "source": [
    "X.head(10) # X head (after dropping rows from y NaNs)"
   ]
  },
  {
   "cell_type": "code",
   "execution_count": 11,
   "metadata": {
    "execution": {
     "iopub.execute_input": "2023-09-16T19:55:44.643871Z",
     "iopub.status.busy": "2023-09-16T19:55:44.643871Z",
     "iopub.status.idle": "2023-09-16T19:55:44.653026Z",
     "shell.execute_reply": "2023-09-16T19:55:44.651969Z"
    }
   },
   "outputs": [
    {
     "name": "stdout",
     "output_type": "stream",
     "text": [
      "Index(['Temp1', 'FlowC1', 'TempC9', 'TempC3', 'PressureC1', 'Temp4', 'Temp11',\n",
      "       'OC1', 'FlowC3', 'Random_Normal'],\n",
      "      dtype='object')\n"
     ]
    }
   ],
   "source": [
    "print(X.columns)"
   ]
  },
  {
   "cell_type": "markdown",
   "metadata": {},
   "source": [
    "import dtale\n",
    "d = dtale.show(X)\n"
   ]
  },
  {
   "cell_type": "markdown",
   "metadata": {},
   "source": [
    "# Feature generation"
   ]
  },
  {
   "cell_type": "code",
   "execution_count": 12,
   "metadata": {
    "execution": {
     "iopub.execute_input": "2023-09-16T19:55:44.658029Z",
     "iopub.status.busy": "2023-09-16T19:55:44.658029Z",
     "iopub.status.idle": "2023-09-16T19:55:44.668954Z",
     "shell.execute_reply": "2023-09-16T19:55:44.667999Z"
    }
   },
   "outputs": [
    {
     "name": "stdout",
     "output_type": "stream",
     "text": [
      "N of rows for finite difference feature 1\n",
      "Finding and dropping duplicated columns generated automatically\n",
      "Loading data time [s]: 0.11\n"
     ]
    },
    {
     "name": "stderr",
     "output_type": "stream",
     "text": [
      "Calling int on a single element Series is deprecated and will raise a TypeError in the future. Use int(ser.iloc[0]) instead\n"
     ]
    }
   ],
   "source": [
    "diff_period = int(JMP_user_parameters['nrows'])\n",
    "\n",
    "print('N of rows for finite difference feature', diff_period)\n",
    "\n",
    "X_diff = X.diff(periods = diff_period, axis = 0).copy()\n",
    "X_diff.columns = ['Diff_'+col for col in X_diff.columns]\n",
    "\n",
    "print('Finding and dropping duplicated columns generated automatically')\n",
    "dup_columns = set(X.columns) & set(X_diff.columns)\n",
    "X_diff.drop(list(dup_columns), axis=1, inplace=True)\n",
    "\n",
    "X = pd.concat([X, X_diff], axis=1)\n",
    "\n",
    "toc = time.time() - tic\n",
    "print('Loading data time [s]:', round(toc, 2))\n",
    "tic = time.time()"
   ]
  },
  {
   "cell_type": "code",
   "execution_count": 13,
   "metadata": {
    "execution": {
     "iopub.execute_input": "2023-09-16T19:55:44.672940Z",
     "iopub.status.busy": "2023-09-16T19:55:44.671961Z",
     "iopub.status.idle": "2023-09-16T19:55:44.684038Z",
     "shell.execute_reply": "2023-09-16T19:55:44.683034Z"
    }
   },
   "outputs": [
    {
     "name": "stdout",
     "output_type": "stream",
     "text": [
      "Starting date feature generation\n",
      "Date parsing finished, total time [s]: 0.01\n"
     ]
    }
   ],
   "source": [
    "#add some time features\n",
    "\n",
    "print('Starting date feature generation')\n",
    "\n",
    "if t_exists and (t.name in X.columns): \n",
    "    # User needs to introduce date as X and t \n",
    "    print(t.head())\n",
    "    \n",
    "    # Check first five years in time column\n",
    "    # if index was used as time year will be around 1904 (starting date in JMP)\n",
    "    \n",
    "    is_date_correct = (1960 <= np.nanmean(t.dt.year[0:5]))\n",
    "                       \n",
    "    if is_date_correct:\n",
    "        print('Creating time features')\n",
    "    \n",
    "        #t = t[diff_period:len(t)] # TODO WHY?\n",
    "    \n",
    "        day_of_month = True\n",
    "        day_of_week = True\n",
    "        day_of_year = True\n",
    "        week = True\n",
    "        week_of_month = True\n",
    "        month = True\n",
    "        quarter = True\n",
    "        semester = True\n",
    "        year = True\n",
    "        hour = True\n",
    "        minute = True\n",
    "\n",
    "        if day_of_month:\n",
    "            X['day_of_month'] = t.dt.day\n",
    "        if day_of_week:\n",
    "            X['day_of_week'] = t.dt.dayofweek\n",
    "        if day_of_year:\n",
    "            X['day_of_year'] = t.dt.dayofyear\n",
    "        if week:\n",
    "            X['week_of_year'] = t.dt.isocalendar().week\n",
    "        if week_of_month:\n",
    "            X['week_of_month'] = t.dt.day.divide(7).apply(np.floor)\n",
    "        if month:\n",
    "            X['month'] = t.dt.month\n",
    "        if quarter:\n",
    "            X['quarter'] = t.dt.quarter\n",
    "        if semester:\n",
    "            X['semester'] = t.dt.month.divide(6).apply(np.ceil) # NEW\n",
    "        if year:\n",
    "            X['year'] = t.dt.year\n",
    "        if hour:\n",
    "            X['hour'] = t.dt.hour\n",
    "        if minute:\n",
    "            X['minute'] = t.dt.minute\n",
    "\n",
    "toc = time.time() - tic\n",
    "print('Date parsing finished, total time [s]:', round(toc, 2))\n",
    "tic = time.time()"
   ]
  },
  {
   "cell_type": "markdown",
   "metadata": {},
   "source": [
    "# Modeling (RF LightGBM)"
   ]
  },
  {
   "cell_type": "code",
   "execution_count": 14,
   "metadata": {
    "execution": {
     "iopub.execute_input": "2023-09-16T19:55:44.687068Z",
     "iopub.status.busy": "2023-09-16T19:55:44.687068Z",
     "iopub.status.idle": "2023-09-16T19:55:44.729883Z",
     "shell.execute_reply": "2023-09-16T19:55:44.729883Z"
    }
   },
   "outputs": [
    {
     "name": "stdout",
     "output_type": "stream",
     "text": [
      "Modeling time [s]: 0.0\n"
     ]
    },
    {
     "name": "stderr",
     "output_type": "stream",
     "text": [
      "Calling int on a single element Series is deprecated and will raise a TypeError in the future. Use int(ser.iloc[0]) instead\n",
      "Calling float on a single element Series is deprecated and will raise a TypeError in the future. Use float(ser.iloc[0]) instead\n"
     ]
    }
   ],
   "source": [
    "n_trees = int(JMP_user_parameters['nTrees']) # number of trees in the forest\n",
    "\n",
    "signal_to_noise = float(JMP_user_parameters['SignalToNoiseRatio']) # ratio to remove non features near the noise\n",
    "\n",
    "#add noise\n",
    "normalNoise = np.random.normal(size = len(X))\n",
    "uniNoise = np.random.uniform(size = len(X))\n",
    "\n",
    "#yy = y.values().copy()\n",
    "yy = y.to_numpy().copy()\n",
    "np.random.shuffle(yy)\n",
    "\n",
    "X['Normal Noise'] = normalNoise\n",
    "X['Uniform Noise'] = uniNoise\n",
    "X['Shuffle Yield Noise'] = yy\n",
    "\n",
    "lgbm = LGBMRegressor(n_estimators = n_trees) #keeping default for the other parameters\n",
    "if W_exists:\n",
    "    #weights = np.array(weights).reshape(1,-1).flatten()\n",
    "    #weights = weights[index_not_nan]  #not needed since lgbm handles missing values\n",
    "    y_model = lgbm.fit(X,y,sample_weight = np.array(weights).flatten())\n",
    "else:\n",
    "    y_model = lgbm.fit(X,y)  #LightGBM (as XGBoost) do not support some character in strings, this is why put X into an array\n",
    "\n",
    "imp_lgbm = lgbm.feature_importances_\n",
    "sorted_indices_lgbm = np.argsort(imp_lgbm)[::-1]\n",
    "\n",
    "\n",
    "toc = time.time() - tic\n",
    "print('Modeling time [s]:', round(toc, 1))\n",
    "tic = time.time()\n",
    "\n",
    "\n",
    "# TODO can we drop columns now so the Tree explainer goes faster?\n",
    "# If not, we need to rerun this for the explainer"
   ]
  },
  {
   "cell_type": "markdown",
   "metadata": {},
   "source": [
    "# Model (over)fit"
   ]
  },
  {
   "cell_type": "markdown",
   "metadata": {},
   "source": [
    "<div class=\"alert alert-block alert-info\">\n",
    "    <b>This is a DESCRIPTIVE model intended to find correlations and anomalies in the data to be analyzed.</b> \n",
    "    This means overfitting is expected and the model cannot be used to predict a different data set (as the process may have changed). <b>To expand the scope of this, there should be a proper train/test split in the cell above</b>.\n",
    "    Alternatively, user can train/test by setting several rows with 0 weights to see if performs equaly well.\n",
    "</div>"
   ]
  },
  {
   "cell_type": "code",
   "execution_count": 15,
   "metadata": {
    "execution": {
     "iopub.execute_input": "2023-09-16T19:55:44.732874Z",
     "iopub.status.busy": "2023-09-16T19:55:44.731877Z",
     "iopub.status.idle": "2023-09-16T19:55:44.872495Z",
     "shell.execute_reply": "2023-09-16T19:55:44.872495Z"
    }
   },
   "outputs": [
    {
     "data": {
      "image/png": "[encoded data removed]",
      "text/plain": [
       "<Figure size 640x480 with 1 Axes>"
      ]
     },
     "metadata": {},
     "output_type": "display_data"
    }
   ],
   "source": [
    "if W_exists:\n",
    "    y_predictions = y_model.predict(X)\n",
    "    df_Ys = pd.DataFrame({'y': y, 'y_pred': y_predictions, 'Weight': W})\n",
    "    df_Ys.plot.scatter(x='y_pred', y='y', c='Weight', colormap='viridis')\n",
    "\n",
    "else:\n",
    "    y_predictions = y_model.predict(X)\n",
    "    df_Ys = pd.DataFrame({'y': y, 'y_pred': y_predictions})\n",
    "    df_Ys.plot.scatter(x='y_pred', y='y')"
   ]
  },
  {
   "cell_type": "markdown",
   "metadata": {},
   "source": [
    "# Explainer (shap)"
   ]
  },
  {
   "cell_type": "code",
   "execution_count": 16,
   "metadata": {
    "execution": {
     "iopub.execute_input": "2023-09-16T19:55:44.875495Z",
     "iopub.status.busy": "2023-09-16T19:55:44.874475Z",
     "iopub.status.idle": "2023-09-16T19:55:45.202587Z",
     "shell.execute_reply": "2023-09-16T19:55:45.202587Z"
    }
   },
   "outputs": [
    {
     "name": "stderr",
     "output_type": "stream",
     "text": [
      "No data for colormapping provided via 'c'. Parameters 'vmin', 'vmax' will be ignored\n"
     ]
    },
    {
     "data": {
      "image/png": "[encoded data removed]",
      "text/plain": [
       "<Figure size 800x950 with 2 Axes>"
      ]
     },
     "metadata": {},
     "output_type": "display_data"
    }
   ],
   "source": [
    "explainer_lgbm = shap.TreeExplainer(lgbm, feature_perturbation='tree_path_dependent') #by default if do not provide any backgound dataset: tree_path_dependent\n",
    "shap_values_lgbm = explainer_lgbm.shap_values(X)\n",
    "\n",
    "if is_plotting:\n",
    "    shap.summary_plot(shap_values_lgbm, X)"
   ]
  },
  {
   "cell_type": "code",
   "execution_count": 17,
   "metadata": {
    "execution": {
     "iopub.execute_input": "2023-09-16T19:55:45.205653Z",
     "iopub.status.busy": "2023-09-16T19:55:45.205653Z",
     "iopub.status.idle": "2023-09-16T19:55:45.234878Z",
     "shell.execute_reply": "2023-09-16T19:55:45.233786Z"
    },
    "scrolled": true
   },
   "outputs": [
    {
     "name": "stdout",
     "output_type": "stream",
     "text": [
      "list of columns above noise ratio:  ['Diff_PressureC1', 'FlowC1', 'Temp1', 'TempC9', 'Diff_Random_Normal', 'TempC3', 'Diff_FlowC1', 'Diff_Temp11', 'PressureC1']\n",
      "SHAP time [s]: 0.5\n"
     ]
    }
   ],
   "source": [
    "\n",
    "df_shap_values = pd.DataFrame(shap_values_lgbm, index=X.index, columns=X.columns)\n",
    "\n",
    "shap_lgbm_abs = abs(shap_values_lgbm)\n",
    "\n",
    "mean_shap = shap_lgbm_abs.mean(axis=0)\n",
    "std_shap = shap_lgbm_abs.std(axis=0)\n",
    "\n",
    "#for some features,shap values always equal to 0 --> mean_shap contains null values\n",
    "#for the ones that are null put an extremely small values?\n",
    "mean_shap[np.where(mean_shap==0)] = 1e-9\n",
    "CoefVariance_shap = std_shap/mean_shap \n",
    "\n",
    "#table of the mean and std shap\n",
    "df_global_shap_values = pd.DataFrame({'Tags':X.columns,\n",
    "                     'mean':mean_shap,\n",
    "                     'std':std_shap,\n",
    "                     'CoefVariance':CoefVariance_shap})\n",
    "\n",
    "df_global_shap_values.sort_values(by='mean', ascending=False, inplace=True)\n",
    "\n",
    "col_list_by_mean_shap = df_global_shap_values['Tags'].tolist()\n",
    "\n",
    "# Reodering cloumns by shap mean value\n",
    "X = X[col_list_by_mean_shap]\n",
    "df_shap_values = df_shap_values[col_list_by_mean_shap]\n",
    "\n",
    "list_ordered_factors = col_list_by_mean_shap\n",
    "index_noise_shuffle = list_ordered_factors.index('Shuffle Yield Noise')\n",
    "index_noise_normal = list_ordered_factors.index('Normal Noise')\n",
    "index_noise_uni = list_ordered_factors.index('Uniform Noise')\n",
    "min_index_noise = min(index_noise_shuffle,index_noise_normal,index_noise_uni)\n",
    "\n",
    "col_name_noise = col_list_by_mean_shap[min_index_noise]\n",
    "# Drop columns which SHAP average is below noise to ratio cut\n",
    "\n",
    "# Gets the noise mean value\n",
    "#noise_impact = float(df_global_shap_values['mean'].tail(1))\n",
    "noise_impact = df_global_shap_values.set_index('Tags')['mean'][col_name_noise]\n",
    "noise_cut_impact = signal_to_noise * noise_impact\n",
    "\n",
    "# Finds columns with higher impact\n",
    "bool_columns_after_noise_ratio_cut = df_global_shap_values['mean'].gt(noise_cut_impact)\n",
    "col_list_after_noise_ratio_cut = df_global_shap_values[bool_columns_after_noise_ratio_cut]['Tags'].tolist()\n",
    "print('list of columns above noise ratio: ', col_list_after_noise_ratio_cut)\n",
    "\n",
    "\n",
    "# Appends noise column to visualize baseline\n",
    "col_list_after_noise_ratio_cut.append(col_name_noise)\n",
    "\n",
    "if 'SHAP_row_index' in col_list_after_noise_ratio_cut:\n",
    "    # if a counter is important, this should be found by time index\n",
    "    col_list_after_noise_ratio_cut.remove('SHAP_row_index')\n",
    "\n",
    "# Alternative list with columns which SHAP average is just below noise (no noise ratio)\n",
    "col_list_by_mean_shap_cut = col_list_by_mean_shap[0:(min_index_noise+1)]\n",
    "\n",
    "# Simple index\n",
    "# X['SHAP_row_index'] = range(1, len(X) + 1)\n",
    "\n",
    "try:\n",
    "    # Match JMP row index in case there were excluded rows\n",
    "    X['SHAP_row_index'] = JMP_row_index\n",
    "except:\n",
    "    # Failed using JMP row indexes\n",
    "    print('JMP row index was not passed properly to the solution.')\n",
    "    X['SHAP_row_index'] = range(1, len(X) + 1)\n",
    "\n",
    "X_SHAP_row_index = X['SHAP_row_index'].copy() # copy index before deleting\n",
    "X.drop(['SHAP_row_index'], axis=1, inplace=True)\n",
    "\n",
    "\n",
    "# TODO, which one is better?\n",
    "# X = X[col_list_by_mean_shap_cut]\n",
    "X = X[col_list_after_noise_ratio_cut]\n",
    "\n",
    "#X_normalized = (X-X.min())/(X.max()-X.min()) # not robust to outliers\n",
    "X_normalized = (X-X.quantile(0.03))/(X.quantile(0.97)-X.quantile(0.03))\n",
    "X_normalized = X_normalized.clip(0, 1)\n",
    "\n",
    "# add SHAP row index again\n",
    "#X_normalized['SHAP_row_index'] = X_SHAP_row_index\n",
    "\n",
    "if 'SHAP_row_index' in df_shap_values.columns:\n",
    "    df_shap_values.drop(['SHAP_row_index'], axis=1, inplace=True)\n",
    "# df_shap_values = df_shap_values[col_list_by_mean_shap_cut]\n",
    "df_shap_values = df_shap_values[col_list_after_noise_ratio_cut]\n",
    "\n",
    "# Full list until noise (no signal ratio used in case user wants to reduce it)\n",
    "df_global_shap_values = df_global_shap_values.iloc[0:(min_index_noise+1),:]\n",
    "\n",
    "toc = time.time() - tic\n",
    "print('SHAP time [s]:', round(toc, 1))\n",
    "tic = time.time()\n",
    "\n"
   ]
  },
  {
   "cell_type": "code",
   "execution_count": 18,
   "metadata": {
    "execution": {
     "iopub.execute_input": "2023-09-16T19:55:45.237886Z",
     "iopub.status.busy": "2023-09-16T19:55:45.237886Z",
     "iopub.status.idle": "2023-09-16T19:55:45.250741Z",
     "shell.execute_reply": "2023-09-16T19:55:45.249821Z"
    }
   },
   "outputs": [],
   "source": [
    "# Tables for shap plots in JMP\n",
    "\n",
    "if t_exists:\n",
    "    df_shap_values = pd.concat([t, y, df_shap_values], axis=1)\n",
    "    \n",
    "    # Adds original row index as unique identifier\n",
    "    # TODO use JMP index instead (in case there were excluded rows)\n",
    "    df_shap_values.insert(0, X_SHAP_row_index.name, X_SHAP_row_index.values)\n",
    "    \n",
    "    df_shap_values_melted = df_shap_values.melt(id_vars=[X_SHAP_row_index.name, t.name, y.name])\n",
    "    df_shap_values_melted.columns = [X_SHAP_row_index.name, t.name, y.name, 'tag', 'shap(value)'] \n",
    "    \n",
    "    X_melted = X.melt()\n",
    "    X_melted.columns = ['tag', 'value']\n",
    "    \n",
    "    X_norm_melted = X_normalized.melt()\n",
    "    X_norm_melted.columns = ['tag', 'norm(value)']\n",
    "    \n",
    "    df_shap_plot_table = pd.concat([df_shap_values_melted,\n",
    "                                    X_melted['value'],\n",
    "                                    X_norm_melted['norm(value)']],\n",
    "                                   axis=1)\n",
    "    \n",
    "else:\n",
    "    df_shap_values = pd.concat([y, df_shap_values], axis=1)\n",
    "    \n",
    "    # Adds original row index as unique identifier\n",
    "    df_shap_values.insert(0, X_SHAP_row_index.name, X_SHAP_row_index.values)\n",
    "    \n",
    "    df_shap_values_melted = df_shap_values.melt(id_vars=[X_SHAP_row_index.name, y.name])\n",
    "    df_shap_values_melted.columns = [X_SHAP_row_index.name, y.name, 'tag', 'shap(value)'] \n",
    "                                    \n",
    "    X_melted = X.melt()\n",
    "    X_melted.columns = ['tag', 'value']\n",
    "    \n",
    "    X_norm_melted = X_normalized.melt()\n",
    "    X_norm_melted.columns = ['tag', 'norm(value)']\n",
    "    \n",
    "    df_shap_plot_table = pd.concat([df_shap_values_melted,\n",
    "                                    X_melted['value'],\n",
    "                                    X_norm_melted['norm(value)']],\n",
    "                                   axis=1)\n",
    "\n"
   ]
  },
  {
   "cell_type": "code",
   "execution_count": 19,
   "metadata": {
    "execution": {
     "iopub.execute_input": "2023-09-16T19:55:45.252809Z",
     "iopub.status.busy": "2023-09-16T19:55:45.251808Z",
     "iopub.status.idle": "2023-09-16T19:55:45.267956Z",
     "shell.execute_reply": "2023-09-16T19:55:45.265897Z"
    }
   },
   "outputs": [],
   "source": [
    "# Exporting files to temp CSVs"
   ]
  },
  {
   "cell_type": "code",
   "execution_count": 20,
   "metadata": {
    "execution": {
     "iopub.execute_input": "2023-09-16T19:55:45.270954Z",
     "iopub.status.busy": "2023-09-16T19:55:45.270954Z",
     "iopub.status.idle": "2023-09-16T19:55:45.313841Z",
     "shell.execute_reply": "2023-09-16T19:55:45.311796Z"
    }
   },
   "outputs": [
    {
     "name": "stdout",
     "output_type": "stream",
     "text": [
      "Exporting time [s]: 0.08\n"
     ]
    }
   ],
   "source": [
    "df_shap_values_path_csv = os.path.join(temp_data_path,'df_shap_values.csv')\n",
    "df_global_shap_values_path_csv = os.path.join(temp_data_path,'df_global_shap_values.csv')\n",
    "df_shap_plot_table_path_csv = os.path.join(temp_data_path,'df_shap_plot_table.csv')\n",
    "\n",
    "df_shap_values.to_csv(df_shap_values_path_csv)\n",
    "df_global_shap_values.to_csv(df_global_shap_values_path_csv)\n",
    "df_shap_plot_table.to_csv(df_shap_plot_table_path_csv)\n",
    "\n",
    "\n",
    "toc = time.time() - tic\n",
    "print('Exporting time [s]:', round(toc, 2))\n",
    "tic = time.time()\n"
   ]
  },
  {
   "cell_type": "code",
   "execution_count": 21,
   "metadata": {
    "execution": {
     "iopub.execute_input": "2023-09-16T19:55:45.318821Z",
     "iopub.status.busy": "2023-09-16T19:55:45.318821Z",
     "iopub.status.idle": "2023-09-16T19:55:45.330031Z",
     "shell.execute_reply": "2023-09-16T19:55:45.327923Z"
    }
   },
   "outputs": [],
   "source": [
    "# Visualization of tables in Notebook"
   ]
  },
  {
   "cell_type": "code",
   "execution_count": 22,
   "metadata": {
    "execution": {
     "iopub.execute_input": "2023-09-16T19:55:45.334921Z",
     "iopub.status.busy": "2023-09-16T19:55:45.334921Z",
     "iopub.status.idle": "2023-09-16T19:55:45.359680Z",
     "shell.execute_reply": "2023-09-16T19:55:45.358634Z"
    }
   },
   "outputs": [
    {
     "data": {
      "text/html": [
       "<div>\n",
       "<style scoped>\n",
       "    .dataframe tbody tr th:only-of-type {\n",
       "        vertical-align: middle;\n",
       "    }\n",
       "\n",
       "    .dataframe tbody tr th {\n",
       "        vertical-align: top;\n",
       "    }\n",
       "\n",
       "    .dataframe thead th {\n",
       "        text-align: right;\n",
       "    }\n",
       "</style>\n",
       "<table border=\"1\" class=\"dataframe\">\n",
       "  <thead>\n",
       "    <tr style=\"text-align: right;\">\n",
       "      <th></th>\n",
       "      <th>SHAP_row_index</th>\n",
       "      <th>yield</th>\n",
       "      <th>Diff_PressureC1</th>\n",
       "      <th>FlowC1</th>\n",
       "      <th>Temp1</th>\n",
       "      <th>TempC9</th>\n",
       "      <th>Diff_Random_Normal</th>\n",
       "      <th>TempC3</th>\n",
       "      <th>Diff_FlowC1</th>\n",
       "      <th>Diff_Temp11</th>\n",
       "      <th>PressureC1</th>\n",
       "      <th>Uniform Noise</th>\n",
       "    </tr>\n",
       "  </thead>\n",
       "  <tbody>\n",
       "    <tr>\n",
       "      <th>0</th>\n",
       "      <td>1</td>\n",
       "      <td>69.400623</td>\n",
       "      <td>-0.849063</td>\n",
       "      <td>0.124361</td>\n",
       "      <td>0.183500</td>\n",
       "      <td>0.108179</td>\n",
       "      <td>-0.017927</td>\n",
       "      <td>0.011662</td>\n",
       "      <td>0.083371</td>\n",
       "      <td>0.036028</td>\n",
       "      <td>-0.067392</td>\n",
       "      <td>0.073067</td>\n",
       "    </tr>\n",
       "    <tr>\n",
       "      <th>1</th>\n",
       "      <td>2</td>\n",
       "      <td>66.532666</td>\n",
       "      <td>-1.260941</td>\n",
       "      <td>-0.027233</td>\n",
       "      <td>0.161145</td>\n",
       "      <td>0.081894</td>\n",
       "      <td>0.144625</td>\n",
       "      <td>-0.052820</td>\n",
       "      <td>-0.175340</td>\n",
       "      <td>-0.045609</td>\n",
       "      <td>-0.049014</td>\n",
       "      <td>-0.084360</td>\n",
       "    </tr>\n",
       "    <tr>\n",
       "      <th>2</th>\n",
       "      <td>3</td>\n",
       "      <td>71.102193</td>\n",
       "      <td>0.388195</td>\n",
       "      <td>0.102305</td>\n",
       "      <td>0.171797</td>\n",
       "      <td>0.137731</td>\n",
       "      <td>-0.103234</td>\n",
       "      <td>-0.044327</td>\n",
       "      <td>0.117251</td>\n",
       "      <td>0.065904</td>\n",
       "      <td>-0.041393</td>\n",
       "      <td>0.082902</td>\n",
       "    </tr>\n",
       "    <tr>\n",
       "      <th>3</th>\n",
       "      <td>4</td>\n",
       "      <td>69.793481</td>\n",
       "      <td>0.319505</td>\n",
       "      <td>-0.066982</td>\n",
       "      <td>0.171152</td>\n",
       "      <td>0.098991</td>\n",
       "      <td>-0.082280</td>\n",
       "      <td>-0.044953</td>\n",
       "      <td>-0.204771</td>\n",
       "      <td>0.050684</td>\n",
       "      <td>-0.111658</td>\n",
       "      <td>0.090344</td>\n",
       "    </tr>\n",
       "    <tr>\n",
       "      <th>4</th>\n",
       "      <td>5</td>\n",
       "      <td>71.489516</td>\n",
       "      <td>0.315179</td>\n",
       "      <td>0.510616</td>\n",
       "      <td>0.197918</td>\n",
       "      <td>0.136678</td>\n",
       "      <td>-0.006528</td>\n",
       "      <td>-0.028914</td>\n",
       "      <td>0.151190</td>\n",
       "      <td>0.040943</td>\n",
       "      <td>-0.072464</td>\n",
       "      <td>-0.069816</td>\n",
       "    </tr>\n",
       "    <tr>\n",
       "      <th>...</th>\n",
       "      <td>...</td>\n",
       "      <td>...</td>\n",
       "      <td>...</td>\n",
       "      <td>...</td>\n",
       "      <td>...</td>\n",
       "      <td>...</td>\n",
       "      <td>...</td>\n",
       "      <td>...</td>\n",
       "      <td>...</td>\n",
       "      <td>...</td>\n",
       "      <td>...</td>\n",
       "      <td>...</td>\n",
       "    </tr>\n",
       "    <tr>\n",
       "      <th>248</th>\n",
       "      <td>249</td>\n",
       "      <td>69.037071</td>\n",
       "      <td>0.266262</td>\n",
       "      <td>-0.418961</td>\n",
       "      <td>0.236081</td>\n",
       "      <td>-0.155770</td>\n",
       "      <td>0.021262</td>\n",
       "      <td>-0.027285</td>\n",
       "      <td>-0.012626</td>\n",
       "      <td>0.005016</td>\n",
       "      <td>-0.063172</td>\n",
       "      <td>-0.018606</td>\n",
       "    </tr>\n",
       "    <tr>\n",
       "      <th>249</th>\n",
       "      <td>250</td>\n",
       "      <td>69.202425</td>\n",
       "      <td>-0.014716</td>\n",
       "      <td>-0.350437</td>\n",
       "      <td>0.244592</td>\n",
       "      <td>-0.066077</td>\n",
       "      <td>-0.036049</td>\n",
       "      <td>0.002077</td>\n",
       "      <td>-0.015837</td>\n",
       "      <td>0.016323</td>\n",
       "      <td>-0.042156</td>\n",
       "      <td>0.014350</td>\n",
       "    </tr>\n",
       "    <tr>\n",
       "      <th>250</th>\n",
       "      <td>251</td>\n",
       "      <td>69.409546</td>\n",
       "      <td>0.348221</td>\n",
       "      <td>-0.320129</td>\n",
       "      <td>0.249377</td>\n",
       "      <td>-0.089483</td>\n",
       "      <td>-0.049556</td>\n",
       "      <td>-0.035771</td>\n",
       "      <td>0.015164</td>\n",
       "      <td>-0.003464</td>\n",
       "      <td>-0.067293</td>\n",
       "      <td>0.079959</td>\n",
       "    </tr>\n",
       "    <tr>\n",
       "      <th>251</th>\n",
       "      <td>252</td>\n",
       "      <td>69.072711</td>\n",
       "      <td>0.313435</td>\n",
       "      <td>-0.393129</td>\n",
       "      <td>0.195970</td>\n",
       "      <td>-0.184330</td>\n",
       "      <td>0.185113</td>\n",
       "      <td>-0.031165</td>\n",
       "      <td>-0.024922</td>\n",
       "      <td>-0.004183</td>\n",
       "      <td>-0.063027</td>\n",
       "      <td>-0.076970</td>\n",
       "    </tr>\n",
       "    <tr>\n",
       "      <th>252</th>\n",
       "      <td>253</td>\n",
       "      <td>68.128288</td>\n",
       "      <td>-1.254017</td>\n",
       "      <td>-0.354012</td>\n",
       "      <td>0.208149</td>\n",
       "      <td>-0.068768</td>\n",
       "      <td>-0.004473</td>\n",
       "      <td>0.001793</td>\n",
       "      <td>0.034193</td>\n",
       "      <td>-0.004107</td>\n",
       "      <td>-0.040844</td>\n",
       "      <td>0.027960</td>\n",
       "    </tr>\n",
       "  </tbody>\n",
       "</table>\n",
       "<p>253 rows × 12 columns</p>\n",
       "</div>"
      ],
      "text/plain": [
       "     SHAP_row_index      yield  Diff_PressureC1    FlowC1     Temp1    TempC9  \\\n",
       "0                 1  69.400623        -0.849063  0.124361  0.183500  0.108179   \n",
       "1                 2  66.532666        -1.260941 -0.027233  0.161145  0.081894   \n",
       "2                 3  71.102193         0.388195  0.102305  0.171797  0.137731   \n",
       "3                 4  69.793481         0.319505 -0.066982  0.171152  0.098991   \n",
       "4                 5  71.489516         0.315179  0.510616  0.197918  0.136678   \n",
       "..              ...        ...              ...       ...       ...       ...   \n",
       "248             249  69.037071         0.266262 -0.418961  0.236081 -0.155770   \n",
       "249             250  69.202425        -0.014716 -0.350437  0.244592 -0.066077   \n",
       "250             251  69.409546         0.348221 -0.320129  0.249377 -0.089483   \n",
       "251             252  69.072711         0.313435 -0.393129  0.195970 -0.184330   \n",
       "252             253  68.128288        -1.254017 -0.354012  0.208149 -0.068768   \n",
       "\n",
       "     Diff_Random_Normal    TempC3  Diff_FlowC1  Diff_Temp11  PressureC1  \\\n",
       "0             -0.017927  0.011662     0.083371     0.036028   -0.067392   \n",
       "1              0.144625 -0.052820    -0.175340    -0.045609   -0.049014   \n",
       "2             -0.103234 -0.044327     0.117251     0.065904   -0.041393   \n",
       "3             -0.082280 -0.044953    -0.204771     0.050684   -0.111658   \n",
       "4             -0.006528 -0.028914     0.151190     0.040943   -0.072464   \n",
       "..                  ...       ...          ...          ...         ...   \n",
       "248            0.021262 -0.027285    -0.012626     0.005016   -0.063172   \n",
       "249           -0.036049  0.002077    -0.015837     0.016323   -0.042156   \n",
       "250           -0.049556 -0.035771     0.015164    -0.003464   -0.067293   \n",
       "251            0.185113 -0.031165    -0.024922    -0.004183   -0.063027   \n",
       "252           -0.004473  0.001793     0.034193    -0.004107   -0.040844   \n",
       "\n",
       "     Uniform Noise  \n",
       "0         0.073067  \n",
       "1        -0.084360  \n",
       "2         0.082902  \n",
       "3         0.090344  \n",
       "4        -0.069816  \n",
       "..             ...  \n",
       "248      -0.018606  \n",
       "249       0.014350  \n",
       "250       0.079959  \n",
       "251      -0.076970  \n",
       "252       0.027960  \n",
       "\n",
       "[253 rows x 12 columns]"
      ]
     },
     "execution_count": 22,
     "metadata": {},
     "output_type": "execute_result"
    }
   ],
   "source": [
    "df_shap_values"
   ]
  },
  {
   "cell_type": "code",
   "execution_count": 23,
   "metadata": {
    "execution": {
     "iopub.execute_input": "2023-09-16T19:55:45.363705Z",
     "iopub.status.busy": "2023-09-16T19:55:45.362697Z",
     "iopub.status.idle": "2023-09-16T19:55:45.375010Z",
     "shell.execute_reply": "2023-09-16T19:55:45.373952Z"
    }
   },
   "outputs": [
    {
     "data": {
      "text/plain": [
       "'yield'"
      ]
     },
     "execution_count": 23,
     "metadata": {},
     "output_type": "execute_result"
    }
   ],
   "source": [
    "y.name"
   ]
  },
  {
   "cell_type": "code",
   "execution_count": 24,
   "metadata": {
    "execution": {
     "iopub.execute_input": "2023-09-16T19:55:45.380025Z",
     "iopub.status.busy": "2023-09-16T19:55:45.378987Z",
     "iopub.status.idle": "2023-09-16T19:55:45.391479Z",
     "shell.execute_reply": "2023-09-16T19:55:45.389894Z"
    }
   },
   "outputs": [],
   "source": [
    "# df_shap_values.describe()"
   ]
  },
  {
   "cell_type": "code",
   "execution_count": 25,
   "metadata": {
    "execution": {
     "iopub.execute_input": "2023-09-16T19:55:45.396565Z",
     "iopub.status.busy": "2023-09-16T19:55:45.396565Z",
     "iopub.status.idle": "2023-09-16T19:55:45.423566Z",
     "shell.execute_reply": "2023-09-16T19:55:45.421286Z"
    }
   },
   "outputs": [
    {
     "data": {
      "text/html": [
       "<div>\n",
       "<style scoped>\n",
       "    .dataframe tbody tr th:only-of-type {\n",
       "        vertical-align: middle;\n",
       "    }\n",
       "\n",
       "    .dataframe tbody tr th {\n",
       "        vertical-align: top;\n",
       "    }\n",
       "\n",
       "    .dataframe thead th {\n",
       "        text-align: right;\n",
       "    }\n",
       "</style>\n",
       "<table border=\"1\" class=\"dataframe\">\n",
       "  <thead>\n",
       "    <tr style=\"text-align: right;\">\n",
       "      <th></th>\n",
       "      <th>Tags</th>\n",
       "      <th>mean</th>\n",
       "      <th>std</th>\n",
       "      <th>CoefVariance</th>\n",
       "    </tr>\n",
       "  </thead>\n",
       "  <tbody>\n",
       "    <tr>\n",
       "      <th>14</th>\n",
       "      <td>Diff_PressureC1</td>\n",
       "      <td>0.478718</td>\n",
       "      <td>0.353921</td>\n",
       "      <td>0.739311</td>\n",
       "    </tr>\n",
       "    <tr>\n",
       "      <th>1</th>\n",
       "      <td>FlowC1</td>\n",
       "      <td>0.346142</td>\n",
       "      <td>0.173454</td>\n",
       "      <td>0.501106</td>\n",
       "    </tr>\n",
       "    <tr>\n",
       "      <th>0</th>\n",
       "      <td>Temp1</td>\n",
       "      <td>0.339536</td>\n",
       "      <td>0.425559</td>\n",
       "      <td>1.253353</td>\n",
       "    </tr>\n",
       "    <tr>\n",
       "      <th>2</th>\n",
       "      <td>TempC9</td>\n",
       "      <td>0.093625</td>\n",
       "      <td>0.044452</td>\n",
       "      <td>0.474785</td>\n",
       "    </tr>\n",
       "    <tr>\n",
       "      <th>19</th>\n",
       "      <td>Diff_Random_Normal</td>\n",
       "      <td>0.090373</td>\n",
       "      <td>0.078425</td>\n",
       "      <td>0.867792</td>\n",
       "    </tr>\n",
       "    <tr>\n",
       "      <th>3</th>\n",
       "      <td>TempC3</td>\n",
       "      <td>0.088155</td>\n",
       "      <td>0.084492</td>\n",
       "      <td>0.958442</td>\n",
       "    </tr>\n",
       "    <tr>\n",
       "      <th>11</th>\n",
       "      <td>Diff_FlowC1</td>\n",
       "      <td>0.073048</td>\n",
       "      <td>0.053822</td>\n",
       "      <td>0.736808</td>\n",
       "    </tr>\n",
       "    <tr>\n",
       "      <th>16</th>\n",
       "      <td>Diff_Temp11</td>\n",
       "      <td>0.070209</td>\n",
       "      <td>0.092134</td>\n",
       "      <td>1.312282</td>\n",
       "    </tr>\n",
       "    <tr>\n",
       "      <th>4</th>\n",
       "      <td>PressureC1</td>\n",
       "      <td>0.066088</td>\n",
       "      <td>0.035615</td>\n",
       "      <td>0.538904</td>\n",
       "    </tr>\n",
       "    <tr>\n",
       "      <th>21</th>\n",
       "      <td>Uniform Noise</td>\n",
       "      <td>0.064612</td>\n",
       "      <td>0.041057</td>\n",
       "      <td>0.635450</td>\n",
       "    </tr>\n",
       "  </tbody>\n",
       "</table>\n",
       "</div>"
      ],
      "text/plain": [
       "                  Tags      mean       std  CoefVariance\n",
       "14     Diff_PressureC1  0.478718  0.353921      0.739311\n",
       "1               FlowC1  0.346142  0.173454      0.501106\n",
       "0                Temp1  0.339536  0.425559      1.253353\n",
       "2               TempC9  0.093625  0.044452      0.474785\n",
       "19  Diff_Random_Normal  0.090373  0.078425      0.867792\n",
       "3               TempC3  0.088155  0.084492      0.958442\n",
       "11         Diff_FlowC1  0.073048  0.053822      0.736808\n",
       "16         Diff_Temp11  0.070209  0.092134      1.312282\n",
       "4           PressureC1  0.066088  0.035615      0.538904\n",
       "21       Uniform Noise  0.064612  0.041057      0.635450"
      ]
     },
     "execution_count": 25,
     "metadata": {},
     "output_type": "execute_result"
    }
   ],
   "source": [
    "df_global_shap_values"
   ]
  },
  {
   "cell_type": "code",
   "execution_count": 26,
   "metadata": {
    "execution": {
     "iopub.execute_input": "2023-09-16T19:55:45.429584Z",
     "iopub.status.busy": "2023-09-16T19:55:45.429584Z",
     "iopub.status.idle": "2023-09-16T19:55:45.437649Z",
     "shell.execute_reply": "2023-09-16T19:55:45.436600Z"
    }
   },
   "outputs": [],
   "source": [
    "#df_global_shap_values.describe()"
   ]
  },
  {
   "cell_type": "code",
   "execution_count": 27,
   "metadata": {
    "execution": {
     "iopub.execute_input": "2023-09-16T19:55:45.442621Z",
     "iopub.status.busy": "2023-09-16T19:55:45.442621Z",
     "iopub.status.idle": "2023-09-16T19:55:45.469710Z",
     "shell.execute_reply": "2023-09-16T19:55:45.467677Z"
    }
   },
   "outputs": [
    {
     "data": {
      "text/html": [
       "<div>\n",
       "<style scoped>\n",
       "    .dataframe tbody tr th:only-of-type {\n",
       "        vertical-align: middle;\n",
       "    }\n",
       "\n",
       "    .dataframe tbody tr th {\n",
       "        vertical-align: top;\n",
       "    }\n",
       "\n",
       "    .dataframe thead th {\n",
       "        text-align: right;\n",
       "    }\n",
       "</style>\n",
       "<table border=\"1\" class=\"dataframe\">\n",
       "  <thead>\n",
       "    <tr style=\"text-align: right;\">\n",
       "      <th></th>\n",
       "      <th>SHAP_row_index</th>\n",
       "      <th>yield</th>\n",
       "      <th>tag</th>\n",
       "      <th>shap(value)</th>\n",
       "      <th>value</th>\n",
       "      <th>norm(value)</th>\n",
       "    </tr>\n",
       "  </thead>\n",
       "  <tbody>\n",
       "    <tr>\n",
       "      <th>0</th>\n",
       "      <td>1</td>\n",
       "      <td>69.400623</td>\n",
       "      <td>Diff_PressureC1</td>\n",
       "      <td>-0.849063</td>\n",
       "      <td>NaN</td>\n",
       "      <td>NaN</td>\n",
       "    </tr>\n",
       "    <tr>\n",
       "      <th>1</th>\n",
       "      <td>2</td>\n",
       "      <td>66.532666</td>\n",
       "      <td>Diff_PressureC1</td>\n",
       "      <td>-1.260941</td>\n",
       "      <td>-9.962800</td>\n",
       "      <td>0.003997</td>\n",
       "    </tr>\n",
       "    <tr>\n",
       "      <th>2</th>\n",
       "      <td>3</td>\n",
       "      <td>71.102193</td>\n",
       "      <td>Diff_PressureC1</td>\n",
       "      <td>0.388195</td>\n",
       "      <td>-0.069500</td>\n",
       "      <td>0.488637</td>\n",
       "    </tr>\n",
       "    <tr>\n",
       "      <th>3</th>\n",
       "      <td>4</td>\n",
       "      <td>69.793481</td>\n",
       "      <td>Diff_PressureC1</td>\n",
       "      <td>0.319505</td>\n",
       "      <td>0.225700</td>\n",
       "      <td>0.503097</td>\n",
       "    </tr>\n",
       "    <tr>\n",
       "      <th>4</th>\n",
       "      <td>5</td>\n",
       "      <td>71.489516</td>\n",
       "      <td>Diff_PressureC1</td>\n",
       "      <td>0.315179</td>\n",
       "      <td>-0.167800</td>\n",
       "      <td>0.483821</td>\n",
       "    </tr>\n",
       "    <tr>\n",
       "      <th>...</th>\n",
       "      <td>...</td>\n",
       "      <td>...</td>\n",
       "      <td>...</td>\n",
       "      <td>...</td>\n",
       "      <td>...</td>\n",
       "      <td>...</td>\n",
       "    </tr>\n",
       "    <tr>\n",
       "      <th>2525</th>\n",
       "      <td>249</td>\n",
       "      <td>69.037071</td>\n",
       "      <td>Uniform Noise</td>\n",
       "      <td>-0.018606</td>\n",
       "      <td>0.477604</td>\n",
       "      <td>0.472023</td>\n",
       "    </tr>\n",
       "    <tr>\n",
       "      <th>2526</th>\n",
       "      <td>250</td>\n",
       "      <td>69.202425</td>\n",
       "      <td>Uniform Noise</td>\n",
       "      <td>0.014350</td>\n",
       "      <td>0.671618</td>\n",
       "      <td>0.683087</td>\n",
       "    </tr>\n",
       "    <tr>\n",
       "      <th>2527</th>\n",
       "      <td>251</td>\n",
       "      <td>69.409546</td>\n",
       "      <td>Uniform Noise</td>\n",
       "      <td>0.079959</td>\n",
       "      <td>0.868948</td>\n",
       "      <td>0.897761</td>\n",
       "    </tr>\n",
       "    <tr>\n",
       "      <th>2528</th>\n",
       "      <td>252</td>\n",
       "      <td>69.072711</td>\n",
       "      <td>Uniform Noise</td>\n",
       "      <td>-0.076970</td>\n",
       "      <td>0.239808</td>\n",
       "      <td>0.213327</td>\n",
       "    </tr>\n",
       "    <tr>\n",
       "      <th>2529</th>\n",
       "      <td>253</td>\n",
       "      <td>68.128288</td>\n",
       "      <td>Uniform Noise</td>\n",
       "      <td>0.027960</td>\n",
       "      <td>0.680236</td>\n",
       "      <td>0.692463</td>\n",
       "    </tr>\n",
       "  </tbody>\n",
       "</table>\n",
       "<p>2530 rows × 6 columns</p>\n",
       "</div>"
      ],
      "text/plain": [
       "      SHAP_row_index      yield              tag  shap(value)     value  \\\n",
       "0                  1  69.400623  Diff_PressureC1    -0.849063       NaN   \n",
       "1                  2  66.532666  Diff_PressureC1    -1.260941 -9.962800   \n",
       "2                  3  71.102193  Diff_PressureC1     0.388195 -0.069500   \n",
       "3                  4  69.793481  Diff_PressureC1     0.319505  0.225700   \n",
       "4                  5  71.489516  Diff_PressureC1     0.315179 -0.167800   \n",
       "...              ...        ...              ...          ...       ...   \n",
       "2525             249  69.037071    Uniform Noise    -0.018606  0.477604   \n",
       "2526             250  69.202425    Uniform Noise     0.014350  0.671618   \n",
       "2527             251  69.409546    Uniform Noise     0.079959  0.868948   \n",
       "2528             252  69.072711    Uniform Noise    -0.076970  0.239808   \n",
       "2529             253  68.128288    Uniform Noise     0.027960  0.680236   \n",
       "\n",
       "      norm(value)  \n",
       "0             NaN  \n",
       "1        0.003997  \n",
       "2        0.488637  \n",
       "3        0.503097  \n",
       "4        0.483821  \n",
       "...           ...  \n",
       "2525     0.472023  \n",
       "2526     0.683087  \n",
       "2527     0.897761  \n",
       "2528     0.213327  \n",
       "2529     0.692463  \n",
       "\n",
       "[2530 rows x 6 columns]"
      ]
     },
     "execution_count": 27,
     "metadata": {},
     "output_type": "execute_result"
    }
   ],
   "source": [
    "df_shap_plot_table"
   ]
  },
  {
   "cell_type": "code",
   "execution_count": 28,
   "metadata": {
    "execution": {
     "iopub.execute_input": "2023-09-16T19:55:45.475754Z",
     "iopub.status.busy": "2023-09-16T19:55:45.475754Z",
     "iopub.status.idle": "2023-09-16T19:55:45.483841Z",
     "shell.execute_reply": "2023-09-16T19:55:45.482801Z"
    }
   },
   "outputs": [],
   "source": [
    "#df_shap_plot_table.describe()"
   ]
  },
  {
   "cell_type": "markdown",
   "metadata": {},
   "source": [
    "# UMAP Dimensionality reduction for selected inputs"
   ]
  },
  {
   "cell_type": "code",
   "execution_count": 29,
   "metadata": {
    "execution": {
     "iopub.execute_input": "2023-09-16T19:55:45.488818Z",
     "iopub.status.busy": "2023-09-16T19:55:45.488818Z",
     "iopub.status.idle": "2023-09-16T19:55:45.515803Z",
     "shell.execute_reply": "2023-09-16T19:55:45.513766Z"
    }
   },
   "outputs": [
    {
     "data": {
      "text/html": [
       "<div>\n",
       "<style scoped>\n",
       "    .dataframe tbody tr th:only-of-type {\n",
       "        vertical-align: middle;\n",
       "    }\n",
       "\n",
       "    .dataframe tbody tr th {\n",
       "        vertical-align: top;\n",
       "    }\n",
       "\n",
       "    .dataframe thead th {\n",
       "        text-align: right;\n",
       "    }\n",
       "</style>\n",
       "<table border=\"1\" class=\"dataframe\">\n",
       "  <thead>\n",
       "    <tr style=\"text-align: right;\">\n",
       "      <th></th>\n",
       "      <th>Diff_PressureC1</th>\n",
       "      <th>FlowC1</th>\n",
       "      <th>Temp1</th>\n",
       "      <th>TempC9</th>\n",
       "      <th>Diff_Random_Normal</th>\n",
       "      <th>TempC3</th>\n",
       "      <th>Diff_FlowC1</th>\n",
       "      <th>Diff_Temp11</th>\n",
       "      <th>PressureC1</th>\n",
       "      <th>Uniform Noise</th>\n",
       "    </tr>\n",
       "  </thead>\n",
       "  <tbody>\n",
       "    <tr>\n",
       "      <th>0</th>\n",
       "      <td>NaN</td>\n",
       "      <td>432.0636</td>\n",
       "      <td>139.9857</td>\n",
       "      <td>86.6133</td>\n",
       "      <td>NaN</td>\n",
       "      <td>180.5578</td>\n",
       "      <td>NaN</td>\n",
       "      <td>NaN</td>\n",
       "      <td>215.0627</td>\n",
       "      <td>0.892068</td>\n",
       "    </tr>\n",
       "    <tr>\n",
       "      <th>1</th>\n",
       "      <td>-9.9628</td>\n",
       "      <td>487.4029</td>\n",
       "      <td>131.0470</td>\n",
       "      <td>97.6100</td>\n",
       "      <td>2.423074</td>\n",
       "      <td>172.6575</td>\n",
       "      <td>55.3393</td>\n",
       "      <td>1.0116</td>\n",
       "      <td>205.0999</td>\n",
       "      <td>0.168995</td>\n",
       "    </tr>\n",
       "    <tr>\n",
       "      <th>2</th>\n",
       "      <td>-0.0695</td>\n",
       "      <td>437.3516</td>\n",
       "      <td>118.2666</td>\n",
       "      <td>88.4967</td>\n",
       "      <td>-2.046460</td>\n",
       "      <td>165.9400</td>\n",
       "      <td>-50.0513</td>\n",
       "      <td>-1.9934</td>\n",
       "      <td>205.0304</td>\n",
       "      <td>0.740350</td>\n",
       "    </tr>\n",
       "    <tr>\n",
       "      <th>3</th>\n",
       "      <td>0.2257</td>\n",
       "      <td>481.8314</td>\n",
       "      <td>118.1769</td>\n",
       "      <td>95.3483</td>\n",
       "      <td>0.167053</td>\n",
       "      <td>167.2085</td>\n",
       "      <td>44.4798</td>\n",
       "      <td>0.7064</td>\n",
       "      <td>205.2561</td>\n",
       "      <td>0.907303</td>\n",
       "    </tr>\n",
       "    <tr>\n",
       "      <th>4</th>\n",
       "      <td>-0.1678</td>\n",
       "      <td>412.6471</td>\n",
       "      <td>120.7891</td>\n",
       "      <td>82.9533</td>\n",
       "      <td>0.529137</td>\n",
       "      <td>167.0326</td>\n",
       "      <td>-69.1843</td>\n",
       "      <td>-1.1252</td>\n",
       "      <td>205.0883</td>\n",
       "      <td>0.248980</td>\n",
       "    </tr>\n",
       "  </tbody>\n",
       "</table>\n",
       "</div>"
      ],
      "text/plain": [
       "   Diff_PressureC1    FlowC1     Temp1   TempC9  Diff_Random_Normal    TempC3  \\\n",
       "0              NaN  432.0636  139.9857  86.6133                 NaN  180.5578   \n",
       "1          -9.9628  487.4029  131.0470  97.6100            2.423074  172.6575   \n",
       "2          -0.0695  437.3516  118.2666  88.4967           -2.046460  165.9400   \n",
       "3           0.2257  481.8314  118.1769  95.3483            0.167053  167.2085   \n",
       "4          -0.1678  412.6471  120.7891  82.9533            0.529137  167.0326   \n",
       "\n",
       "   Diff_FlowC1  Diff_Temp11  PressureC1  Uniform Noise  \n",
       "0          NaN          NaN    215.0627       0.892068  \n",
       "1      55.3393       1.0116    205.0999       0.168995  \n",
       "2     -50.0513      -1.9934    205.0304       0.740350  \n",
       "3      44.4798       0.7064    205.2561       0.907303  \n",
       "4     -69.1843      -1.1252    205.0883       0.248980  "
      ]
     },
     "execution_count": 29,
     "metadata": {},
     "output_type": "execute_result"
    }
   ],
   "source": [
    "# X has already the RF selected features ordered by importance\n",
    "X.head()"
   ]
  },
  {
   "cell_type": "code",
   "execution_count": 30,
   "metadata": {
    "execution": {
     "iopub.execute_input": "2023-09-16T19:55:45.520822Z",
     "iopub.status.busy": "2023-09-16T19:55:45.520822Z",
     "iopub.status.idle": "2023-09-16T19:55:55.241044Z",
     "shell.execute_reply": "2023-09-16T19:55:55.241044Z"
    }
   },
   "outputs": [
    {
     "name": "stderr",
     "output_type": "stream",
     "text": [
      "Calling int on a single element Series is deprecated and will raise a TypeError in the future. Use int(ser.iloc[0]) instead\n"
     ]
    },
    {
     "name": "stdout",
     "output_type": "stream",
     "text": [
      "N of umap dimensions 2\n",
      "Distance metric: euclidean\n"
     ]
    },
    {
     "name": "stderr",
     "output_type": "stream",
     "text": [
      "Calling int on a single element Series is deprecated and will raise a TypeError in the future. Use int(ser.iloc[0]) instead\n"
     ]
    },
    {
     "name": "stdout",
     "output_type": "stream",
     "text": [
      "N of rows for finite differences 1\n"
     ]
    },
    {
     "data": {
      "image/png": "[encoded data removed]",
      "text/plain": [
       "<Figure size 800x800 with 1 Axes>"
      ]
     },
     "metadata": {},
     "output_type": "display_data"
    }
   ],
   "source": [
    "# Function was defined above\n",
    "\n",
    "if not(is_unspervised_learning):\n",
    "    n_umap_components = int(JMP_user_parameters['NdimUMAP'])\n",
    "    distance = str(JMP_user_parameters['metric'][0])\n",
    "    \n",
    "    df_umap, n_umap_components = umap_princ_components(X, n_umap_components, distance)"
   ]
  },
  {
   "cell_type": "code",
   "execution_count": 31,
   "metadata": {
    "execution": {
     "iopub.execute_input": "2023-09-16T19:55:55.243584Z",
     "iopub.status.busy": "2023-09-16T19:55:55.243584Z",
     "iopub.status.idle": "2023-09-16T19:55:55.257686Z",
     "shell.execute_reply": "2023-09-16T19:55:55.256671Z"
    }
   },
   "outputs": [
    {
     "name": "stdout",
     "output_type": "stream",
     "text": [
      "Generating file to confirm python execution\n"
     ]
    }
   ],
   "source": [
    "# DO NOT EDIT THIS CELL\n",
    "\n",
    "# This file is generated only if all the notebook was executed correctly\n",
    "# JMP will stop if doesn't find it\n",
    "python_execution_check_csv = os.path.join(temp_data_path,'python_execution.csv')\n",
    "\n",
    "try:\n",
    "    os.remove(python_execution_check_csv)\n",
    "except:\n",
    "    print('Generating file to confirm python execution')\n",
    "\n",
    "pd.DataFrame({'Python': [1]}).to_csv(python_execution_check_csv)"
   ]
  },
  {
   "cell_type": "markdown",
   "metadata": {},
   "source": [
    "#  END"
   ]
  }
 ],
 "metadata": {
  "kernelspec": {
   "display_name": "Python 3 (ipykernel)",
   "language": "python",
   "name": "python3"
  },
  "language_info": {
   "codemirror_mode": {
    "name": "ipython",
    "version": 3
   },
   "file_extension": ".py",
   "mimetype": "text/x-python",
   "name": "python",
   "nbconvert_exporter": "python",
   "pygments_lexer": "ipython3",
   "version": "3.10.10"
  }
 },
 "nbformat": 4,
 "nbformat_minor": 4
}
