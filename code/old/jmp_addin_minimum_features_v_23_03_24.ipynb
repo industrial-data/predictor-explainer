{
 "cells": [
  {
   "cell_type": "markdown",
   "metadata": {},
   "source": [
    "# Predictor Explainer"
   ]
  },
  {
   "cell_type": "markdown",
   "metadata": {},
   "source": [
    "The following Python code runs after the user has selected all the `X`'s, `y`, `Datetime` (optional), `Weights` (optional) and other parameters. [PyJMP](https://github.com/industrial-data/pyJMP) needs to be installed.\n",
    "\n",
    "The main idea is to find variables (`X`'s or tags) that correlate with at certain target (`y`). Intentionally, the purpose is to generate **descriptive models** to find interesting variables to visualize.\n",
    "\n",
    "More information can be found here:\n",
    "\n",
    "* [Predictor Explainer](https://github.com/industrial-data/predictor-explainer/pyJMP)\n",
    "* [Industrial data science – a review of machine learning applications for chemical and process industries](https://pubs.rsc.org/en/content/articlelanding/2022/re/d1re00541c)\n"
   ]
  },
  {
   "cell_type": "code",
   "execution_count": 1,
   "metadata": {
    "execution": {
     "iopub.execute_input": "2022-12-11T14:33:19.850627Z",
     "iopub.status.busy": "2022-12-11T14:33:19.850627Z",
     "iopub.status.idle": "2022-12-11T14:33:19.867355Z",
     "shell.execute_reply": "2022-12-11T14:33:19.866486Z"
    }
   },
   "outputs": [],
   "source": [
    "__author__ = 'Francisco Navarro; Juline Gillard'\n",
    "__license__ = \"BSD Clause-3\"\n",
    "__version__ = '2022.12.11'\n",
    "__maintainer__ = 'Francisco Navarro; Carlos Perez-Galvan'\n",
    "__status__ = 'beta'\n",
    "__url__ = 'https://github.com/industrial-data/predictor-explainer'"
   ]
  },
  {
   "cell_type": "markdown",
   "metadata": {},
   "source": [
    "# Loading Python libraries"
   ]
  },
  {
   "cell_type": "code",
   "execution_count": 2,
   "metadata": {
    "execution": {
     "iopub.execute_input": "2022-12-11T14:33:19.872324Z",
     "iopub.status.busy": "2022-12-11T14:33:19.871334Z",
     "iopub.status.idle": "2022-12-11T14:33:26.076715Z",
     "shell.execute_reply": "2022-12-11T14:33:26.075804Z"
    }
   },
   "outputs": [],
   "source": [
    "import numpy as np\n",
    "import pandas as pd\n",
    "import shap\n",
    "import umap\n",
    "import hdbscan\n",
    "from lightgbm.sklearn import LGBMRegressor\n",
    "import matplotlib.pyplot as plt\n",
    "import time\n",
    "import os\n",
    "import re\n",
    "\n",
    "# To deactivate plots, change to False\n",
    "is_plotting = True\n",
    "\n",
    "if is_plotting:\n",
    "    import umap.plot"
   ]
  },
  {
   "cell_type": "markdown",
   "metadata": {},
   "source": [
    "# Loading data from temp files (saved by JMP)"
   ]
  },
  {
   "cell_type": "markdown",
   "metadata": {},
   "source": [
    "<div class=\"alert alert-block alert-warning\">New CSV files are generated only when the user clicks OK in the Predictor Explainer add-in.</div>"
   ]
  },
  {
   "cell_type": "code",
   "execution_count": 3,
   "metadata": {
    "execution": {
     "iopub.execute_input": "2022-12-11T14:33:26.079706Z",
     "iopub.status.busy": "2022-12-11T14:33:26.079706Z",
     "iopub.status.idle": "2022-12-11T14:33:26.091673Z",
     "shell.execute_reply": "2022-12-11T14:33:26.091673Z"
    }
   },
   "outputs": [
    {
     "name": "stdout",
     "output_type": "stream",
     "text": [
      "C:\\Users\\fxn0478\\AppData\\Local\\Temp\n"
     ]
    }
   ],
   "source": [
    "temp_data_path = os.path.join(os.path.join(os.environ['USERPROFILE']),\n",
    "                             'AppData',\n",
    "                             'Local',\n",
    "                             'Temp')\n",
    "print(temp_data_path)"
   ]
  },
  {
   "cell_type": "code",
   "execution_count": 4,
   "metadata": {
    "execution": {
     "iopub.execute_input": "2022-12-11T14:33:26.108661Z",
     "iopub.status.busy": "2022-12-11T14:33:26.108661Z",
     "iopub.status.idle": "2022-12-11T14:33:26.123734Z",
     "shell.execute_reply": "2022-12-11T14:33:26.123734Z"
    }
   },
   "outputs": [
    {
     "name": "stdout",
     "output_type": "stream",
     "text": [
      "Time column was not defined by user\n",
      "Weights were not defined by user\n"
     ]
    }
   ],
   "source": [
    "y_path_csv = os.path.join(temp_data_path,'y.csv')\n",
    "X_path_csv = os.path.join(temp_data_path,'X.csv')\n",
    "t_path_csv = os.path.join(temp_data_path,'t.csv')\n",
    "W_path_csv = os.path.join(temp_data_path,'W.csv')\n",
    "user_parameters_csv = os.path.join(temp_data_path,'user_parameters.csv')\n",
    "\n",
    "is_unspervised_learning = False\n",
    "\n",
    "try:\n",
    "    y = pd.read_csv(y_path_csv)\n",
    "except:\n",
    "    print(\"target column couldn't be loaded correctly, assuming unspervised learning \")\n",
    "    is_unspervised_learning = True\n",
    "\n",
    "try:\n",
    "    X = pd.read_csv(X_path_csv)\n",
    "    JMP_row_index = X['row_index'].copy();\n",
    "    del X['row_index']\n",
    "    \n",
    "except Exception:\n",
    "    print(\"X columns couldn't be loaded correctly, make sure they exist\")    \n",
    "\n",
    "try:\n",
    "    t = pd.read_csv(t_path_csv)\n",
    "except:\n",
    "    print('Time column was not defined by user')\n",
    "    \n",
    "try:\n",
    "    W = pd.read_csv(W_path_csv)\n",
    "except:\n",
    "    print('Weights were not defined by user')\n",
    "\n",
    "try:\n",
    "    JMP_user_parameters = pd.read_csv(user_parameters_csv)\n",
    "except:\n",
    "    print('User parameters not defined')"
   ]
  },
  {
   "cell_type": "code",
   "execution_count": 5,
   "metadata": {
    "execution": {
     "iopub.execute_input": "2022-12-11T14:33:26.126731Z",
     "iopub.status.busy": "2022-12-11T14:33:26.126731Z",
     "iopub.status.idle": "2022-12-11T14:33:26.139410Z",
     "shell.execute_reply": "2022-12-11T14:33:26.138926Z"
    }
   },
   "outputs": [
    {
     "name": "stdout",
     "output_type": "stream",
     "text": [
      "Options defined in JMP addin: \n",
      "\n",
      "    nTrees  SignalToNoiseRatio  NdimUMAP     metric  nrows\n",
      "0     100                   3         2  euclidean      1\n"
     ]
    }
   ],
   "source": [
    "print('Options defined in JMP addin: \\n\\n', JMP_user_parameters);"
   ]
  },
  {
   "cell_type": "code",
   "execution_count": 6,
   "metadata": {
    "execution": {
     "iopub.execute_input": "2022-12-11T14:33:26.142436Z",
     "iopub.status.busy": "2022-12-11T14:33:26.142436Z",
     "iopub.status.idle": "2022-12-11T14:33:26.154471Z",
     "shell.execute_reply": "2022-12-11T14:33:26.154471Z"
    }
   },
   "outputs": [],
   "source": [
    "# This function will be used at the end to create umap from RF selected features\n",
    "def umap_princ_components(X, n_umap_components=2, distance='euclidean'):\n",
    "    '''Takes not scaled X(obs,variables) and reduces to n_comp dimensions\n",
    "    by using umap reducer embedding.\n",
    "    \n",
    "    It returns a dataframe with the following columns:\n",
    "        n_comp (embeddings)\n",
    "        euclidan distance between consecutive rows\n",
    "        sum(n_comp)\n",
    "        labels for clusters\n",
    "        outlier score based on density'''\n",
    "    \n",
    "    #n_umap_components = 2 # default and paper\n",
    "    \n",
    "    print('N of umap dimensions', n_umap_components)\n",
    "    print('Distance metric:', distance)\n",
    "    \n",
    "    # Data prep\n",
    "    \n",
    "    # Umap does not handle NaNs (TODO improve)\n",
    "    # Simplest time series approach:\n",
    "    # forward filled and then back filled\n",
    "    # (!) Not compatible with batch data\n",
    "    X_unsupervised = X.copy()\n",
    "    \n",
    "    X_unsupervised = X_unsupervised.fillna(method='ffill')\n",
    "    X_unsupervised = X_unsupervised.fillna(method='bfill')\n",
    "    \n",
    "    # Drops any reamining column with of empty values\n",
    "    X_unsupervised = X_unsupervised.dropna(axis=1, how='all')\n",
    "    \n",
    "    # Robust normalization\n",
    "    X_unsupervised_normalized = ((X_unsupervised-X_unsupervised.quantile(0.03)) /\n",
    "                                 (X_unsupervised.quantile(0.97)-X_unsupervised.quantile(0.03)))\n",
    "    \n",
    "    # If values are fairly constant, (q97-q03) division returns NaN (TODO improve)\n",
    "    X_unsupervised_normalized = X_unsupervised_normalized.dropna(axis=1, how='any')\n",
    "\n",
    "    X_unsupervised_normalized = X_unsupervised_normalized.clip(0, 1)\n",
    "    \n",
    "    # Dimensionality reduction\n",
    "    \n",
    "    # Choice of parameters is indicated but also shared with\n",
    "    # paper https://doi.org/10.1016/j.conengprac.2019.104189\n",
    "    \n",
    "    # TODO Exploit AlignedUMAP for time varying data\n",
    "    # https://umap-learn.readthedocs.io/en/latest/aligned_umap_politics_demo.html\n",
    "    \n",
    "    if distance == 'euclidean':\n",
    "        y_distance = 'l2'\n",
    "    \n",
    "    if distance == 'manhattan':\n",
    "        y_distance = 'l1'\n",
    "        \n",
    "    if is_unspervised_learning:\n",
    "    \n",
    "        embedding = umap.UMAP(n_neighbors=15, # default and paper\n",
    "                            min_dist=0.1, # default and paper\n",
    "                            n_components=n_umap_components,\n",
    "                            metric=distance,\n",
    "                            output_metric=distance,\n",
    "                            target_metric=y_distance,\n",
    "                            #random_state=42, # uncomment to get slower but reproducible results\n",
    "                            ).fit(X_unsupervised_normalized)\n",
    "    else:\n",
    "        embedding = umap.UMAP(n_neighbors=15, # default and paper\n",
    "                            min_dist=0.1, # default and paper\n",
    "                            n_components=n_umap_components,\n",
    "                            metric=distance,\n",
    "                            output_metric=distance,\n",
    "                            target_metric=y_distance,\n",
    "                            #random_state=42, # uncomment to get slower but reproducible results\n",
    "                            ).fit(X_unsupervised_normalized, y=y) #add 'y' as function input\n",
    "        \n",
    "        \n",
    "        \n",
    "    # Generating umap column names\n",
    "    umap_col_names = ['umap'+str(i+1) for i in range(n_umap_components)]\n",
    "    \n",
    "    # Saving table\n",
    "    array_umap_components = embedding.embedding_\n",
    "    df_umap = pd.DataFrame(array_umap_components, columns=umap_col_names)\n",
    "    \n",
    "\n",
    "    \n",
    "    # Clustering and density analysis \n",
    "\n",
    "    n_observations = len(X_unsupervised_normalized.index)\n",
    "    percentual_threshold = 0.05 # % of data required to form cluster \n",
    "\n",
    "    # array_umap_components = df_umap.iloc[:,:n_umap_components].values\n",
    "\n",
    "    clusterer = hdbscan.HDBSCAN(\n",
    "                        min_samples=5,\n",
    "                        min_cluster_size=round(percentual_threshold*n_observations),\n",
    "                        ).fit(array_umap_components)\n",
    "\n",
    "    labels = clusterer.labels_  \n",
    "\n",
    "    are_clustered = (labels >= 0) #-1 are unclustered points\n",
    "    \n",
    "    df_umap['umap_clusters'] = labels\n",
    "    df_umap['outlier_score'] = clusterer.outlier_scores_\n",
    "    \n",
    "    # Row or time difference\n",
    "    diff_period = int(JMP_user_parameters['nrows'])\n",
    "    print('N of rows for finite differences', diff_period)\n",
    "    \n",
    "    df_umap_shift = df_umap.shift(periods = diff_period, axis = 0).copy()\n",
    "    \n",
    "    if distance == 'euclidean':\n",
    "        # 2-norm distance between consecutive points\n",
    "        df_umap['distance_diff_umap'] = np.linalg.norm(df_umap.values - df_umap_shift.values, axis=1)\n",
    "    \n",
    "    if distance == 'manhattan':\n",
    "        # 1-norm distance between consecutive points\n",
    "        df_umap['distance_diff_umap'] = np.linalg.norm(df_umap.values - df_umap_shift.values, ord=1, axis=1)\n",
    "    \n",
    "    \n",
    "    # IMPORTANT TODO we are adding all umap components as target function\n",
    "    # this assumes that dimensions have no importance (?) (unlike PCA)\n",
    "    df_umap['sum_umap_comp'] = df_umap.iloc[:,:n_umap_components].sum(axis=1)\n",
    "    \n",
    "    if not(is_unspervised_learning):\n",
    "        df_umap['y'] = y\n",
    "        \n",
    "    df_umap_path_csv = os.path.join(temp_data_path,'df_umap.csv')\n",
    "    \n",
    "    df_umap.index = JMP_row_index\n",
    "    df_umap.to_csv(df_umap_path_csv)\n",
    "    df_umap = df_umap.reset_index()\n",
    "\n",
    "    if is_plotting:\n",
    "        \n",
    "        if n_umap_components == 1:\n",
    "            cmap = plt.cm.Paired\n",
    "            df_umap.reset_index().plot.scatter(x='index', y='umap1', c=cmap(labels), xlabel='row index', ylabel='umap 1D')\n",
    "        \n",
    "        if n_umap_components == 2:\n",
    "            umap.plot.connectivity(embedding, show_points=True, labels=labels)\n",
    "        #df_umap.plot()\n",
    "        \n",
    "        if n_umap_components >= 3:\n",
    "            \n",
    "            #cmap = plt.cm.Paired\n",
    "            \n",
    "            df_umap_parallel = df_umap[umap_col_names+['umap_clusters']]\n",
    "            df_umap_parallel = df_umap_parallel[are_clustered]\n",
    "            \n",
    "            n_clusters = len(df_umap_parallel['umap_clusters'].unique())\n",
    "            \n",
    "            pd.plotting.parallel_coordinates(df_umap_parallel,\n",
    "                                             'umap_clusters')\n",
    "    \n",
    "    return df_umap, n_umap_components\n",
    "\n"
   ]
  },
  {
   "cell_type": "markdown",
   "metadata": {},
   "source": [
    "# Unsupervised step (only if target was not given by user)"
   ]
  },
  {
   "cell_type": "code",
   "execution_count": 7,
   "metadata": {
    "execution": {
     "iopub.execute_input": "2022-12-11T14:33:26.157388Z",
     "iopub.status.busy": "2022-12-11T14:33:26.157388Z",
     "iopub.status.idle": "2022-12-11T14:33:26.170542Z",
     "shell.execute_reply": "2022-12-11T14:33:26.169626Z"
    }
   },
   "outputs": [],
   "source": [
    "if is_unspervised_learning:\n",
    "    print('Reducing dimensionality and using such as target')\n",
    "    \n",
    "    n_umap_components = int(JMP_user_parameters['NdimUMAP'])\n",
    "    distance = str(JMP_user_parameters['metric'][0])\n",
    "    \n",
    "    df_umap, n_umap_components = umap_princ_components(X, n_umap_components, distance)\n",
    "    y = df_umap['sum_umap_comp'].copy().to_frame()"
   ]
  },
  {
   "cell_type": "markdown",
   "metadata": {},
   "source": [
    "# Data preparation"
   ]
  },
  {
   "cell_type": "code",
   "execution_count": 8,
   "metadata": {
    "execution": {
     "iopub.execute_input": "2022-12-11T14:33:26.174527Z",
     "iopub.status.busy": "2022-12-11T14:33:26.173530Z",
     "iopub.status.idle": "2022-12-11T14:33:26.185302Z",
     "shell.execute_reply": "2022-12-11T14:33:26.185302Z"
    },
    "scrolled": false
   },
   "outputs": [
    {
     "name": "stdout",
     "output_type": "stream",
     "text": [
      "<class 'pandas.core.frame.DataFrame'>\n",
      "<class 'pandas.core.frame.DataFrame'>\n"
     ]
    }
   ],
   "source": [
    "# JMP loads everything as data frames\n",
    "\n",
    "def rename_df_columns(my_dataframe):\n",
    "    '''Light GBM does not support special JSON Characters in column names yet\n",
    "    This function susbtitues by _ all characters in column names that are not letters or numbers'''\n",
    "    \n",
    "    print(type(my_dataframe))\n",
    "    \n",
    "    # If errors, uncomment the following line.\n",
    "    my_dataframe = my_dataframe.rename(columns = lambda str_column:re.sub(r'[^A-Za-z0-9_]+','_', str_column))\n",
    "        \n",
    "    # Once fixed, the following reg. exp. will keep special JSON charaters\n",
    "    # my_data_frame = my_data_frame.rename(columns = lambda str_column:re.sub(r'[^\\x00-\\x7F]+','', str_column))\n",
    "    \n",
    "    return my_dataframe\n",
    "\n",
    "\n",
    "y = rename_df_columns(y) # removing special characters\n",
    "y = y.iloc[:, 0] # converting df to series\n",
    "\n",
    "\n",
    "tic = time.time()\n",
    "\n",
    "# Removes X columns that are non numeric (e.g. dates in X)\n",
    "X = X.select_dtypes(include=np.number)\n",
    "\n",
    "\n",
    "# Adding index in case a counter fits the data well (acumulation)\n",
    "# X['SHAP_row_index'] = range(1, len(X) + 1)\n",
    "X = rename_df_columns(X) # removing special characters\n",
    "\n",
    "if y.name in X.columns:\n",
    "    print('Output columns was given as input! Removing it from X')\n",
    "    del X[y.name]\n",
    "    \n",
    "try:\n",
    "    t;\n",
    "except NameError:\n",
    "    t_exists = False\n",
    "else:\n",
    "    t_exists = True\n",
    "    t = rename_df_columns(t) # removing special characters\n",
    "    \n",
    "    #t.to_csv('C:\\Temp\\JMP_time.csv')\n",
    "    \n",
    "    t.iloc[:,0] = pd.to_datetime(t.iloc[:,0], unit='s', origin=pd.Timestamp('1904-01-01'))\n",
    "    t = t.iloc[:, 0] # converting to series\n",
    "    \n",
    "try:\n",
    "    W;\n",
    "except NameError:\n",
    "    W_exists = False\n",
    "else:\n",
    "    W_exists = True\n",
    "    W = rename_df_columns(W) # removing special characters\n",
    "    \n",
    "    #W.to_csv('C:\\Temp\\JMP_weight.csv')\n",
    "    \n",
    "    W = W.iloc[:, 0] # converting to series\n",
    "\n",
    "\n",
    "    \n",
    "# print('X head: \\n', X.head())\n",
    "# print('X tail: \\n', X.tail())\n",
    "# print('y: \\n', y)\n",
    "\n",
    "assert (len(X) == len(y) ), 'Number of rows of X, y does not match!'\n",
    "\n",
    "#check if NaN exist in Y, W, t and remove corresponding X \n",
    "y.dropna(inplace=True)\n",
    "index_not_nan = y.index\n",
    "X = X.loc[index_not_nan,:]\n",
    "\n",
    "JMP_row_index = JMP_row_index[index_not_nan]\n",
    "\n",
    "if t_exists:\n",
    "    t = t[index_not_nan]\n",
    "    t.dropna(inplace=True)\n",
    "    t_index_not_nan = t.index\n",
    "    \n",
    "    y = y[t_index_not_nan]\n",
    "    X = X.loc[t_index_not_nan,:]\n",
    "    assert (len(X) == len(y) == len(t)), 'Number of rows of X, y and t does not match'\n",
    "\n",
    "if W_exists:\n",
    "    W = W[index_not_nan] \n",
    "    W.fillna(0)\n",
    "    W = (W-W.min())/(W.max()-W.min())\n",
    "    assert (len(X) == len(y) == len(W)), 'Number of rows of X, y and W does not match'\n",
    "    weights = W\n",
    "    \n",
    "# print('X head (after dropping NaN): \\n', X.head())\n",
    "# print('X tail (after dropping NaN): \\n', X.tail())\n",
    "# print('y (after dropping NaN): \\n', y)    "
   ]
  },
  {
   "cell_type": "code",
   "execution_count": 9,
   "metadata": {
    "execution": {
     "iopub.execute_input": "2022-12-11T14:33:26.188246Z",
     "iopub.status.busy": "2022-12-11T14:33:26.188246Z",
     "iopub.status.idle": "2022-12-11T14:33:26.201344Z",
     "shell.execute_reply": "2022-12-11T14:33:26.201344Z"
    }
   },
   "outputs": [
    {
     "data": {
      "text/html": [
       "<div>\n",
       "<style scoped>\n",
       "    .dataframe tbody tr th:only-of-type {\n",
       "        vertical-align: middle;\n",
       "    }\n",
       "\n",
       "    .dataframe tbody tr th {\n",
       "        vertical-align: top;\n",
       "    }\n",
       "\n",
       "    .dataframe thead th {\n",
       "        text-align: right;\n",
       "    }\n",
       "</style>\n",
       "<table border=\"1\" class=\"dataframe\">\n",
       "  <thead>\n",
       "    <tr style=\"text-align: right;\">\n",
       "      <th></th>\n",
       "      <th>yield</th>\n",
       "    </tr>\n",
       "  </thead>\n",
       "  <tbody>\n",
       "    <tr>\n",
       "      <th>1</th>\n",
       "      <td>69.161052</td>\n",
       "    </tr>\n",
       "    <tr>\n",
       "      <th>2</th>\n",
       "      <td>71.399191</td>\n",
       "    </tr>\n",
       "    <tr>\n",
       "      <th>3</th>\n",
       "      <td>70.125880</td>\n",
       "    </tr>\n",
       "    <tr>\n",
       "      <th>4</th>\n",
       "      <td>69.726319</td>\n",
       "    </tr>\n",
       "    <tr>\n",
       "      <th>5</th>\n",
       "      <td>67.777871</td>\n",
       "    </tr>\n",
       "    <tr>\n",
       "      <th>6</th>\n",
       "      <td>70.726714</td>\n",
       "    </tr>\n",
       "    <tr>\n",
       "      <th>7</th>\n",
       "      <td>69.656710</td>\n",
       "    </tr>\n",
       "    <tr>\n",
       "      <th>8</th>\n",
       "      <td>69.535188</td>\n",
       "    </tr>\n",
       "    <tr>\n",
       "      <th>9</th>\n",
       "      <td>70.448296</td>\n",
       "    </tr>\n",
       "    <tr>\n",
       "      <th>10</th>\n",
       "      <td>69.096136</td>\n",
       "    </tr>\n",
       "  </tbody>\n",
       "</table>\n",
       "</div>"
      ],
      "text/plain": [
       "        yield\n",
       "1   69.161052\n",
       "2   71.399191\n",
       "3   70.125880\n",
       "4   69.726319\n",
       "5   67.777871\n",
       "6   70.726714\n",
       "7   69.656710\n",
       "8   69.535188\n",
       "9   70.448296\n",
       "10  69.096136"
      ]
     },
     "execution_count": 9,
     "metadata": {},
     "output_type": "execute_result"
    }
   ],
   "source": [
    "y.to_frame().head(10) # head (after dropping NaNs)"
   ]
  },
  {
   "cell_type": "code",
   "execution_count": 10,
   "metadata": {
    "execution": {
     "iopub.execute_input": "2022-12-11T14:33:26.204372Z",
     "iopub.status.busy": "2022-12-11T14:33:26.204372Z",
     "iopub.status.idle": "2022-12-11T14:33:26.217291Z",
     "shell.execute_reply": "2022-12-11T14:33:26.217291Z"
    }
   },
   "outputs": [
    {
     "data": {
      "text/html": [
       "<div>\n",
       "<style scoped>\n",
       "    .dataframe tbody tr th:only-of-type {\n",
       "        vertical-align: middle;\n",
       "    }\n",
       "\n",
       "    .dataframe tbody tr th {\n",
       "        vertical-align: top;\n",
       "    }\n",
       "\n",
       "    .dataframe thead th {\n",
       "        text-align: right;\n",
       "    }\n",
       "</style>\n",
       "<table border=\"1\" class=\"dataframe\">\n",
       "  <thead>\n",
       "    <tr style=\"text-align: right;\">\n",
       "      <th></th>\n",
       "      <th>Diff_PressureC1_</th>\n",
       "      <th>Temp1</th>\n",
       "      <th>FlowC1</th>\n",
       "      <th>FlowC9</th>\n",
       "      <th>Random_Uniform</th>\n",
       "    </tr>\n",
       "  </thead>\n",
       "  <tbody>\n",
       "    <tr>\n",
       "      <th>1</th>\n",
       "      <td>0.3616</td>\n",
       "      <td>120.8903</td>\n",
       "      <td>493.8452</td>\n",
       "      <td>99.8533</td>\n",
       "      <td>0.472756</td>\n",
       "    </tr>\n",
       "    <tr>\n",
       "      <th>2</th>\n",
       "      <td>0.1880</td>\n",
       "      <td>119.4786</td>\n",
       "      <td>429.0580</td>\n",
       "      <td>85.8233</td>\n",
       "      <td>0.012200</td>\n",
       "    </tr>\n",
       "    <tr>\n",
       "      <th>3</th>\n",
       "      <td>-0.2575</td>\n",
       "      <td>124.8390</td>\n",
       "      <td>414.0616</td>\n",
       "      <td>82.6411</td>\n",
       "      <td>0.785202</td>\n",
       "    </tr>\n",
       "    <tr>\n",
       "      <th>4</th>\n",
       "      <td>0.0347</td>\n",
       "      <td>121.6020</td>\n",
       "      <td>505.6681</td>\n",
       "      <td>99.9829</td>\n",
       "      <td>0.766292</td>\n",
       "    </tr>\n",
       "    <tr>\n",
       "      <th>5</th>\n",
       "      <td>-4.0701</td>\n",
       "      <td>NaN</td>\n",
       "      <td>498.9423</td>\n",
       "      <td>99.6483</td>\n",
       "      <td>0.476401</td>\n",
       "    </tr>\n",
       "    <tr>\n",
       "      <th>6</th>\n",
       "      <td>0.0000</td>\n",
       "      <td>121.1189</td>\n",
       "      <td>437.2185</td>\n",
       "      <td>87.3567</td>\n",
       "      <td>0.495628</td>\n",
       "    </tr>\n",
       "    <tr>\n",
       "      <th>7</th>\n",
       "      <td>-0.1302</td>\n",
       "      <td>121.7611</td>\n",
       "      <td>457.8587</td>\n",
       "      <td>92.5622</td>\n",
       "      <td>0.717920</td>\n",
       "    </tr>\n",
       "    <tr>\n",
       "      <th>8</th>\n",
       "      <td>0.1533</td>\n",
       "      <td>120.8585</td>\n",
       "      <td>479.9308</td>\n",
       "      <td>95.5533</td>\n",
       "      <td>0.053700</td>\n",
       "    </tr>\n",
       "    <tr>\n",
       "      <th>9</th>\n",
       "      <td>-0.0145</td>\n",
       "      <td>121.3995</td>\n",
       "      <td>443.2095</td>\n",
       "      <td>88.0333</td>\n",
       "      <td>0.559385</td>\n",
       "    </tr>\n",
       "    <tr>\n",
       "      <th>10</th>\n",
       "      <td>-0.2661</td>\n",
       "      <td>119.7303</td>\n",
       "      <td>493.1683</td>\n",
       "      <td>99.5933</td>\n",
       "      <td>0.349064</td>\n",
       "    </tr>\n",
       "  </tbody>\n",
       "</table>\n",
       "</div>"
      ],
      "text/plain": [
       "    Diff_PressureC1_     Temp1    FlowC1   FlowC9  Random_Uniform\n",
       "1             0.3616  120.8903  493.8452  99.8533        0.472756\n",
       "2             0.1880  119.4786  429.0580  85.8233        0.012200\n",
       "3            -0.2575  124.8390  414.0616  82.6411        0.785202\n",
       "4             0.0347  121.6020  505.6681  99.9829        0.766292\n",
       "5            -4.0701       NaN  498.9423  99.6483        0.476401\n",
       "6             0.0000  121.1189  437.2185  87.3567        0.495628\n",
       "7            -0.1302  121.7611  457.8587  92.5622        0.717920\n",
       "8             0.1533  120.8585  479.9308  95.5533        0.053700\n",
       "9            -0.0145  121.3995  443.2095  88.0333        0.559385\n",
       "10           -0.2661  119.7303  493.1683  99.5933        0.349064"
      ]
     },
     "execution_count": 10,
     "metadata": {},
     "output_type": "execute_result"
    }
   ],
   "source": [
    "X.head(10) # X head (after dropping rows from y NaNs)"
   ]
  },
  {
   "cell_type": "code",
   "execution_count": 11,
   "metadata": {
    "execution": {
     "iopub.execute_input": "2022-12-11T14:33:26.221368Z",
     "iopub.status.busy": "2022-12-11T14:33:26.221368Z",
     "iopub.status.idle": "2022-12-11T14:33:26.233889Z",
     "shell.execute_reply": "2022-12-11T14:33:26.232884Z"
    }
   },
   "outputs": [
    {
     "name": "stdout",
     "output_type": "stream",
     "text": [
      "Index(['Diff_PressureC1_', 'Temp1', 'FlowC1', 'FlowC9', 'Random_Uniform'], dtype='object')\n"
     ]
    }
   ],
   "source": [
    "print(X.columns)"
   ]
  },
  {
   "cell_type": "markdown",
   "metadata": {},
   "source": [
    "# Feature generation"
   ]
  },
  {
   "cell_type": "code",
   "execution_count": 12,
   "metadata": {
    "execution": {
     "iopub.execute_input": "2022-12-11T14:33:26.238881Z",
     "iopub.status.busy": "2022-12-11T14:33:26.238881Z",
     "iopub.status.idle": "2022-12-11T14:33:26.248373Z",
     "shell.execute_reply": "2022-12-11T14:33:26.248373Z"
    }
   },
   "outputs": [
    {
     "name": "stdout",
     "output_type": "stream",
     "text": [
      "N of rows for finite difference feature 1\n",
      "Finding and dropping duplicated columns generated automatically\n",
      "Loading data time [s]: 0.06\n"
     ]
    }
   ],
   "source": [
    "diff_period = int(JMP_user_parameters['nrows'])\n",
    "\n",
    "print('N of rows for finite difference feature', diff_period)\n",
    "\n",
    "X_diff = X.diff(periods = diff_period, axis = 0).copy()\n",
    "X_diff.columns = ['Diff_'+col for col in X_diff.columns]\n",
    "\n",
    "print('Finding and dropping duplicated columns generated automatically')\n",
    "dup_columns = set(X.columns) & set(X_diff.columns)\n",
    "X_diff.drop(list(dup_columns), axis=1, inplace=True)\n",
    "\n",
    "X = pd.concat([X, X_diff], axis=1)\n",
    "\n",
    "toc = time.time() - tic\n",
    "print('Loading data time [s]:', round(toc, 2))\n",
    "tic = time.time()"
   ]
  },
  {
   "cell_type": "code",
   "execution_count": 13,
   "metadata": {
    "execution": {
     "iopub.execute_input": "2022-12-11T14:33:26.251370Z",
     "iopub.status.busy": "2022-12-11T14:33:26.251370Z",
     "iopub.status.idle": "2022-12-11T14:33:26.265592Z",
     "shell.execute_reply": "2022-12-11T14:33:26.263593Z"
    }
   },
   "outputs": [
    {
     "name": "stdout",
     "output_type": "stream",
     "text": [
      "Starting date feature generation\n",
      "Date parsing finished, total time [s]: 0.02\n"
     ]
    }
   ],
   "source": [
    "#add some time features\n",
    "\n",
    "print('Starting date feature generation')\n",
    "\n",
    "if t_exists and (t.name in X.columns): \n",
    "    # User needs to introduce date as X and t \n",
    "    print(t.head())\n",
    "    \n",
    "    # Check first five years in time column\n",
    "    # if index was used as time year will be around 1904 (starting date in JMP)\n",
    "    \n",
    "    is_date_correct = (1960 <= np.nanmean(t.dt.year[0:5]))\n",
    "                       \n",
    "    if is_date_correct:\n",
    "        print('Creating time features')\n",
    "    \n",
    "        #t = t[diff_period:len(t)] # TODO WHY?\n",
    "    \n",
    "        day_of_month = True\n",
    "        day_of_week = True\n",
    "        day_of_year = True\n",
    "        week = True\n",
    "        week_of_month = True\n",
    "        month = True\n",
    "        quarter = True\n",
    "        semester = True\n",
    "        year = True\n",
    "        hour = True\n",
    "        minute = True\n",
    "\n",
    "        if day_of_month:\n",
    "            X['day_of_month'] = t.dt.day\n",
    "        if day_of_week:\n",
    "            X['day_of_week'] = t.dt.dayofweek\n",
    "        if day_of_year:\n",
    "            X['day_of_year'] = t.dt.dayofyear\n",
    "        if week:\n",
    "            X['week_of_year'] = t.dt.isocalendar().week\n",
    "        if week_of_month:\n",
    "            X['week_of_month'] = t.dt.day.divide(7).apply(np.floor)\n",
    "        if month:\n",
    "            X['month'] = t.dt.month\n",
    "        if quarter:\n",
    "            X['quarter'] = t.dt.quarter\n",
    "        if semester:\n",
    "            X['semester'] = t.dt.month.divide(6).apply(np.ceil) # NEW\n",
    "        if year:\n",
    "            X['year'] = t.dt.year\n",
    "        if hour:\n",
    "            X['hour'] = t.dt.hour\n",
    "        if minute:\n",
    "            X['minute'] = t.dt.minute\n",
    "\n",
    "toc = time.time() - tic\n",
    "print('Date parsing finished, total time [s]:', round(toc, 2))\n",
    "tic = time.time()"
   ]
  },
  {
   "cell_type": "markdown",
   "metadata": {},
   "source": [
    "# Modeling (RF LightGBM)"
   ]
  },
  {
   "cell_type": "code",
   "execution_count": 14,
   "metadata": {
    "execution": {
     "iopub.execute_input": "2022-12-11T14:33:26.269207Z",
     "iopub.status.busy": "2022-12-11T14:33:26.269207Z",
     "iopub.status.idle": "2022-12-11T14:33:26.309997Z",
     "shell.execute_reply": "2022-12-11T14:33:26.309997Z"
    }
   },
   "outputs": [
    {
     "name": "stdout",
     "output_type": "stream",
     "text": [
      "Modeling time [s]: 0.0\n"
     ]
    }
   ],
   "source": [
    "n_trees = int(JMP_user_parameters['nTrees']) # number of trees in the forest\n",
    "\n",
    "signal_to_noise = float(JMP_user_parameters['SignalToNoiseRatio']) # ratio to remove non features near the noise\n",
    "\n",
    "#add noise\n",
    "normalNoise = np.random.normal(size = len(X))\n",
    "uniNoise = np.random.uniform(size = len(X))\n",
    "\n",
    "#yy = y.values().copy()\n",
    "yy = y.to_numpy().copy()\n",
    "np.random.shuffle(yy)\n",
    "\n",
    "X['Normal Noise'] = normalNoise\n",
    "X['Uniform Noise'] = uniNoise\n",
    "X['Shuffle Yield Noise'] = yy\n",
    "\n",
    "lgbm = LGBMRegressor(n_estimators = n_trees) #keeping default for the other parameters\n",
    "if W_exists:\n",
    "    #weights = np.array(weights).reshape(1,-1).flatten()\n",
    "    #weights = weights[index_not_nan]  #not needed since lgbm handles missing values\n",
    "    y_model = lgbm.fit(X,y,sample_weight = np.array(weights).flatten())\n",
    "else:\n",
    "    y_model = lgbm.fit(X,y)  #LightGBM (as XGBoost) do not support some character in strings, this is why put X into an array\n",
    "\n",
    "imp_lgbm = lgbm.feature_importances_\n",
    "sorted_indices_lgbm = np.argsort(imp_lgbm)[::-1]\n",
    "\n",
    "\n",
    "toc = time.time() - tic\n",
    "print('Modeling time [s]:', round(toc, 1))\n",
    "tic = time.time()\n",
    "\n",
    "\n",
    "# TODO can we drop columns now so the Tree explainer goes faster?\n",
    "# If not, we need to rerun this for the explainer"
   ]
  },
  {
   "cell_type": "markdown",
   "metadata": {},
   "source": [
    "# Model (over)fit"
   ]
  },
  {
   "cell_type": "markdown",
   "metadata": {},
   "source": [
    "<div class=\"alert alert-block alert-info\">\n",
    "    <b>This is a DESCRIPTIVE model intended to find correlations and anomalies in the data to be analyzed.</b> \n",
    "    This means overfitting is expected and the model cannot be used to predict a different data set (as the process may have changed). <b>To expand the scope of this, there should be a proper train/test split in the cell above</b>.\n",
    "    Alternatively, user can train/test by setting several rows with 0 weights to see if performs equaly well.\n",
    "</div>"
   ]
  },
  {
   "cell_type": "code",
   "execution_count": 15,
   "metadata": {
    "execution": {
     "iopub.execute_input": "2022-12-11T14:33:26.313984Z",
     "iopub.status.busy": "2022-12-11T14:33:26.313984Z",
     "iopub.status.idle": "2022-12-11T14:33:26.463826Z",
     "shell.execute_reply": "2022-12-11T14:33:26.463826Z"
    }
   },
   "outputs": [
    {
     "data": {
      "image/png": "[encoded data removed]",
      "text/plain": [
       "<Figure size 640x480 with 1 Axes>"
      ]
     },
     "metadata": {},
     "output_type": "display_data"
    }
   ],
   "source": [
    "if W_exists:\n",
    "    y_predictions = y_model.predict(X)\n",
    "    df_Ys = pd.DataFrame({'y': y, 'y_pred': y_predictions, 'Weight': W})\n",
    "    df_Ys.plot.scatter(x='y_pred', y='y', c='Weight', colormap='viridis')\n",
    "\n",
    "else:\n",
    "    y_predictions = y_model.predict(X)\n",
    "    df_Ys = pd.DataFrame({'y': y, 'y_pred': y_predictions})\n",
    "    df_Ys.plot.scatter(x='y_pred', y='y')"
   ]
  },
  {
   "cell_type": "markdown",
   "metadata": {},
   "source": [
    "# Explainer (shap)"
   ]
  },
  {
   "cell_type": "code",
   "execution_count": 16,
   "metadata": {
    "execution": {
     "iopub.execute_input": "2022-12-11T14:33:26.467854Z",
     "iopub.status.busy": "2022-12-11T14:33:26.467854Z",
     "iopub.status.idle": "2022-12-11T14:33:26.748718Z",
     "shell.execute_reply": "2022-12-11T14:33:26.747811Z"
    }
   },
   "outputs": [
    {
     "name": "stderr",
     "output_type": "stream",
     "text": [
      "No data for colormapping provided via 'c'. Parameters 'vmin', 'vmax' will be ignored\n"
     ]
    },
    {
     "data": {
      "image/png": "[encoded data removed]",
      "text/plain": [
       "<Figure size 800x670 with 2 Axes>"
      ]
     },
     "metadata": {},
     "output_type": "display_data"
    }
   ],
   "source": [
    "explainer_lgbm = shap.TreeExplainer(lgbm, feature_perturbation='tree_path_dependent') #by default if do not provide any backgound dataset: tree_path_dependent\n",
    "shap_values_lgbm = explainer_lgbm.shap_values(X)\n",
    "\n",
    "if is_plotting:\n",
    "    shap.summary_plot(shap_values_lgbm, X)"
   ]
  },
  {
   "cell_type": "code",
   "execution_count": 17,
   "metadata": {
    "execution": {
     "iopub.execute_input": "2022-12-11T14:33:26.750711Z",
     "iopub.status.busy": "2022-12-11T14:33:26.750711Z",
     "iopub.status.idle": "2022-12-11T14:33:26.779586Z",
     "shell.execute_reply": "2022-12-11T14:33:26.778580Z"
    },
    "scrolled": true
   },
   "outputs": [
    {
     "name": "stdout",
     "output_type": "stream",
     "text": [
      "list of columns above noise ratio:  ['Diff_PressureC1_', 'Temp1', 'FlowC1']\n",
      "SHAP time [s]: 0.5\n"
     ]
    }
   ],
   "source": [
    "\n",
    "df_shap_values = pd.DataFrame(shap_values_lgbm, index=X.index, columns=X.columns)\n",
    "\n",
    "shap_lgbm_abs = abs(shap_values_lgbm)\n",
    "\n",
    "mean_shap = shap_lgbm_abs.mean(axis=0)\n",
    "std_shap = shap_lgbm_abs.std(axis=0)\n",
    "\n",
    "#for some features,shap values always equal to 0 --> mean_shap contains null values\n",
    "#for the ones that are null put an extremely small values?\n",
    "mean_shap[np.where(mean_shap==0)] = 1e-9\n",
    "CoefVariance_shap = std_shap/mean_shap \n",
    "\n",
    "#table of the mean and std shap\n",
    "df_global_shap_values = pd.DataFrame({'Tags':X.columns,\n",
    "                     'mean':mean_shap,\n",
    "                     'std':std_shap,\n",
    "                     'CoefVariance':CoefVariance_shap})\n",
    "\n",
    "df_global_shap_values.sort_values(by='mean', ascending=False, inplace=True)\n",
    "\n",
    "col_list_by_mean_shap = df_global_shap_values['Tags'].tolist()\n",
    "\n",
    "# Reodering cloumns by shap mean value\n",
    "X = X[col_list_by_mean_shap]\n",
    "df_shap_values = df_shap_values[col_list_by_mean_shap]\n",
    "\n",
    "list_ordered_factors = col_list_by_mean_shap\n",
    "index_noise_shuffle = list_ordered_factors.index('Shuffle Yield Noise')\n",
    "index_noise_normal = list_ordered_factors.index('Normal Noise')\n",
    "index_noise_uni = list_ordered_factors.index('Uniform Noise')\n",
    "min_index_noise = min(index_noise_shuffle,index_noise_normal,index_noise_uni)\n",
    "\n",
    "col_name_noise = col_list_by_mean_shap[min_index_noise]\n",
    "# Drop columns which SHAP average is below noise to ratio cut\n",
    "\n",
    "# Gets the noise mean value\n",
    "#noise_impact = float(df_global_shap_values['mean'].tail(1))\n",
    "noise_impact = df_global_shap_values.set_index('Tags')['mean'][col_name_noise]\n",
    "noise_cut_impact = signal_to_noise * noise_impact\n",
    "\n",
    "# Finds columns with higher impact\n",
    "bool_columns_after_noise_ratio_cut = df_global_shap_values['mean'].gt(noise_cut_impact)\n",
    "col_list_after_noise_ratio_cut = df_global_shap_values[bool_columns_after_noise_ratio_cut]['Tags'].tolist()\n",
    "print('list of columns above noise ratio: ', col_list_after_noise_ratio_cut)\n",
    "\n",
    "\n",
    "# Appends noise column to visualize baseline\n",
    "col_list_after_noise_ratio_cut.append(col_name_noise)\n",
    "\n",
    "if 'SHAP_row_index' in col_list_after_noise_ratio_cut:\n",
    "    # if a counter is important, this should be found by time index\n",
    "    col_list_after_noise_ratio_cut.remove('SHAP_row_index')\n",
    "\n",
    "# Alternative list with columns which SHAP average is just below noise (no noise ratio)\n",
    "col_list_by_mean_shap_cut = col_list_by_mean_shap[0:(min_index_noise+1)]\n",
    "\n",
    "# Simple index\n",
    "# X['SHAP_row_index'] = range(1, len(X) + 1)\n",
    "\n",
    "try:\n",
    "    # Match JMP row index in case there were excluded rows\n",
    "    X['SHAP_row_index'] = JMP_row_index\n",
    "except:\n",
    "    # Failed using JMP row indexes\n",
    "    print('JMP row index was not passed properly to the solution.')\n",
    "    X['SHAP_row_index'] = range(1, len(X) + 1)\n",
    "\n",
    "X_SHAP_row_index = X['SHAP_row_index'].copy() # copy index before deleting\n",
    "X.drop(['SHAP_row_index'], axis=1, inplace=True)\n",
    "\n",
    "\n",
    "# TODO, which one is better?\n",
    "# X = X[col_list_by_mean_shap_cut]\n",
    "X = X[col_list_after_noise_ratio_cut]\n",
    "\n",
    "#X_normalized = (X-X.min())/(X.max()-X.min()) # not robust to outliers\n",
    "X_normalized = (X-X.quantile(0.03))/(X.quantile(0.97)-X.quantile(0.03))\n",
    "X_normalized = X_normalized.clip(0, 1)\n",
    "\n",
    "# add SHAP row index again\n",
    "#X_normalized['SHAP_row_index'] = X_SHAP_row_index\n",
    "\n",
    "if 'SHAP_row_index' in df_shap_values.columns:\n",
    "    df_shap_values.drop(['SHAP_row_index'], axis=1, inplace=True)\n",
    "# df_shap_values = df_shap_values[col_list_by_mean_shap_cut]\n",
    "df_shap_values = df_shap_values[col_list_after_noise_ratio_cut]\n",
    "\n",
    "# Full list until noise (no signal ratio used in case user wants to reduce it)\n",
    "df_global_shap_values = df_global_shap_values.iloc[0:(min_index_noise+1),:]\n",
    "\n",
    "toc = time.time() - tic\n",
    "print('SHAP time [s]:', round(toc, 1))\n",
    "tic = time.time()\n",
    "\n"
   ]
  },
  {
   "cell_type": "code",
   "execution_count": 18,
   "metadata": {
    "execution": {
     "iopub.execute_input": "2022-12-11T14:33:26.783572Z",
     "iopub.status.busy": "2022-12-11T14:33:26.783572Z",
     "iopub.status.idle": "2022-12-11T14:33:26.811461Z",
     "shell.execute_reply": "2022-12-11T14:33:26.809457Z"
    }
   },
   "outputs": [],
   "source": [
    "# Tables for shap plots in JMP\n",
    "\n",
    "if t_exists:\n",
    "    df_shap_values = pd.concat([t, y, df_shap_values], axis=1)\n",
    "    \n",
    "    # Adds original row index as unique identifier\n",
    "    # TODO use JMP index instead (in case there were excluded rows)\n",
    "    df_shap_values.insert(0, X_SHAP_row_index.name, X_SHAP_row_index.values)\n",
    "    \n",
    "    df_shap_values_melted = df_shap_values.melt(id_vars=[X_SHAP_row_index.name, t.name, y.name])\n",
    "    df_shap_values_melted.columns = [X_SHAP_row_index.name, t.name, y.name, 'tag', 'shap(value)'] \n",
    "    \n",
    "    X_melted = X.melt()\n",
    "    X_melted.columns = ['tag', 'value']\n",
    "    \n",
    "    X_norm_melted = X_normalized.melt()\n",
    "    X_norm_melted.columns = ['tag', 'norm(value)']\n",
    "    \n",
    "    df_shap_plot_table = pd.concat([df_shap_values_melted,\n",
    "                                    X_melted['value'],\n",
    "                                    X_norm_melted['norm(value)']],\n",
    "                                   axis=1)\n",
    "    \n",
    "else:\n",
    "    df_shap_values = pd.concat([y, df_shap_values], axis=1)\n",
    "    \n",
    "    # Adds original row index as unique identifier\n",
    "    df_shap_values.insert(0, X_SHAP_row_index.name, X_SHAP_row_index.values)\n",
    "    \n",
    "    df_shap_values_melted = df_shap_values.melt(id_vars=[X_SHAP_row_index.name, y.name])\n",
    "    df_shap_values_melted.columns = [X_SHAP_row_index.name, y.name, 'tag', 'shap(value)'] \n",
    "                                    \n",
    "    X_melted = X.melt()\n",
    "    X_melted.columns = ['tag', 'value']\n",
    "    \n",
    "    X_norm_melted = X_normalized.melt()\n",
    "    X_norm_melted.columns = ['tag', 'norm(value)']\n",
    "    \n",
    "    df_shap_plot_table = pd.concat([df_shap_values_melted,\n",
    "                                    X_melted['value'],\n",
    "                                    X_norm_melted['norm(value)']],\n",
    "                                   axis=1)\n",
    "\n"
   ]
  },
  {
   "cell_type": "code",
   "execution_count": 19,
   "metadata": {
    "execution": {
     "iopub.execute_input": "2022-12-11T14:33:26.819451Z",
     "iopub.status.busy": "2022-12-11T14:33:26.818437Z",
     "iopub.status.idle": "2022-12-11T14:33:26.825552Z",
     "shell.execute_reply": "2022-12-11T14:33:26.824543Z"
    }
   },
   "outputs": [],
   "source": [
    "# Exporting files to temp CSVs"
   ]
  },
  {
   "cell_type": "code",
   "execution_count": 20,
   "metadata": {
    "execution": {
     "iopub.execute_input": "2022-12-11T14:33:26.830533Z",
     "iopub.status.busy": "2022-12-11T14:33:26.830533Z",
     "iopub.status.idle": "2022-12-11T14:33:26.856642Z",
     "shell.execute_reply": "2022-12-11T14:33:26.855634Z"
    }
   },
   "outputs": [
    {
     "name": "stdout",
     "output_type": "stream",
     "text": [
      "Exporting time [s]: 0.06\n"
     ]
    }
   ],
   "source": [
    "df_shap_values_path_csv = os.path.join(temp_data_path,'df_shap_values.csv')\n",
    "df_global_shap_values_path_csv = os.path.join(temp_data_path,'df_global_shap_values.csv')\n",
    "df_shap_plot_table_path_csv = os.path.join(temp_data_path,'df_shap_plot_table.csv')\n",
    "\n",
    "df_shap_values.to_csv(df_shap_values_path_csv)\n",
    "df_global_shap_values.to_csv(df_global_shap_values_path_csv)\n",
    "df_shap_plot_table.to_csv(df_shap_plot_table_path_csv)\n",
    "\n",
    "\n",
    "toc = time.time() - tic\n",
    "print('Exporting time [s]:', round(toc, 2))\n",
    "tic = time.time()\n"
   ]
  },
  {
   "cell_type": "code",
   "execution_count": 21,
   "metadata": {
    "execution": {
     "iopub.execute_input": "2022-12-11T14:33:26.861625Z",
     "iopub.status.busy": "2022-12-11T14:33:26.861625Z",
     "iopub.status.idle": "2022-12-11T14:33:26.870146Z",
     "shell.execute_reply": "2022-12-11T14:33:26.870146Z"
    }
   },
   "outputs": [],
   "source": [
    "# Visualization of tables in Notebook"
   ]
  },
  {
   "cell_type": "code",
   "execution_count": 22,
   "metadata": {
    "execution": {
     "iopub.execute_input": "2022-12-11T14:33:26.874141Z",
     "iopub.status.busy": "2022-12-11T14:33:26.874141Z",
     "iopub.status.idle": "2022-12-11T14:33:26.885379Z",
     "shell.execute_reply": "2022-12-11T14:33:26.885379Z"
    }
   },
   "outputs": [
    {
     "data": {
      "text/html": [
       "<div>\n",
       "<style scoped>\n",
       "    .dataframe tbody tr th:only-of-type {\n",
       "        vertical-align: middle;\n",
       "    }\n",
       "\n",
       "    .dataframe tbody tr th {\n",
       "        vertical-align: top;\n",
       "    }\n",
       "\n",
       "    .dataframe thead th {\n",
       "        text-align: right;\n",
       "    }\n",
       "</style>\n",
       "<table border=\"1\" class=\"dataframe\">\n",
       "  <thead>\n",
       "    <tr style=\"text-align: right;\">\n",
       "      <th></th>\n",
       "      <th>SHAP_row_index</th>\n",
       "      <th>yield</th>\n",
       "      <th>Diff_PressureC1_</th>\n",
       "      <th>Temp1</th>\n",
       "      <th>FlowC1</th>\n",
       "      <th>Normal Noise</th>\n",
       "    </tr>\n",
       "  </thead>\n",
       "  <tbody>\n",
       "    <tr>\n",
       "      <th>1</th>\n",
       "      <td>7</td>\n",
       "      <td>69.161052</td>\n",
       "      <td>0.273957</td>\n",
       "      <td>0.089797</td>\n",
       "      <td>0.044258</td>\n",
       "      <td>-0.056778</td>\n",
       "    </tr>\n",
       "    <tr>\n",
       "      <th>2</th>\n",
       "      <td>8</td>\n",
       "      <td>71.399191</td>\n",
       "      <td>0.278049</td>\n",
       "      <td>0.053251</td>\n",
       "      <td>0.295559</td>\n",
       "      <td>-0.044713</td>\n",
       "    </tr>\n",
       "    <tr>\n",
       "      <th>3</th>\n",
       "      <td>9</td>\n",
       "      <td>70.125880</td>\n",
       "      <td>0.297183</td>\n",
       "      <td>0.187863</td>\n",
       "      <td>0.026870</td>\n",
       "      <td>0.001309</td>\n",
       "    </tr>\n",
       "    <tr>\n",
       "      <th>4</th>\n",
       "      <td>10</td>\n",
       "      <td>69.726319</td>\n",
       "      <td>0.331781</td>\n",
       "      <td>0.060470</td>\n",
       "      <td>-0.109205</td>\n",
       "      <td>-0.015467</td>\n",
       "    </tr>\n",
       "    <tr>\n",
       "      <th>5</th>\n",
       "      <td>11</td>\n",
       "      <td>67.777871</td>\n",
       "      <td>-1.115175</td>\n",
       "      <td>-0.760345</td>\n",
       "      <td>0.069931</td>\n",
       "      <td>-0.001694</td>\n",
       "    </tr>\n",
       "    <tr>\n",
       "      <th>...</th>\n",
       "      <td>...</td>\n",
       "      <td>...</td>\n",
       "      <td>...</td>\n",
       "      <td>...</td>\n",
       "      <td>...</td>\n",
       "      <td>...</td>\n",
       "    </tr>\n",
       "    <tr>\n",
       "      <th>243</th>\n",
       "      <td>249</td>\n",
       "      <td>69.037071</td>\n",
       "      <td>0.308305</td>\n",
       "      <td>0.290081</td>\n",
       "      <td>-0.416844</td>\n",
       "      <td>-0.061492</td>\n",
       "    </tr>\n",
       "    <tr>\n",
       "      <th>244</th>\n",
       "      <td>250</td>\n",
       "      <td>69.202425</td>\n",
       "      <td>0.008660</td>\n",
       "      <td>0.314063</td>\n",
       "      <td>-0.363246</td>\n",
       "      <td>-0.023195</td>\n",
       "    </tr>\n",
       "    <tr>\n",
       "      <th>245</th>\n",
       "      <td>251</td>\n",
       "      <td>69.409546</td>\n",
       "      <td>0.327222</td>\n",
       "      <td>0.310672</td>\n",
       "      <td>-0.305235</td>\n",
       "      <td>-0.045551</td>\n",
       "    </tr>\n",
       "    <tr>\n",
       "      <th>246</th>\n",
       "      <td>252</td>\n",
       "      <td>69.072711</td>\n",
       "      <td>0.340386</td>\n",
       "      <td>0.155256</td>\n",
       "      <td>-0.389868</td>\n",
       "      <td>-0.056916</td>\n",
       "    </tr>\n",
       "    <tr>\n",
       "      <th>247</th>\n",
       "      <td>253</td>\n",
       "      <td>68.128288</td>\n",
       "      <td>-1.008931</td>\n",
       "      <td>0.237524</td>\n",
       "      <td>-0.371460</td>\n",
       "      <td>-0.024837</td>\n",
       "    </tr>\n",
       "  </tbody>\n",
       "</table>\n",
       "<p>241 rows × 6 columns</p>\n",
       "</div>"
      ],
      "text/plain": [
       "     SHAP_row_index      yield  Diff_PressureC1_     Temp1    FlowC1  \\\n",
       "1                 7  69.161052          0.273957  0.089797  0.044258   \n",
       "2                 8  71.399191          0.278049  0.053251  0.295559   \n",
       "3                 9  70.125880          0.297183  0.187863  0.026870   \n",
       "4                10  69.726319          0.331781  0.060470 -0.109205   \n",
       "5                11  67.777871         -1.115175 -0.760345  0.069931   \n",
       "..              ...        ...               ...       ...       ...   \n",
       "243             249  69.037071          0.308305  0.290081 -0.416844   \n",
       "244             250  69.202425          0.008660  0.314063 -0.363246   \n",
       "245             251  69.409546          0.327222  0.310672 -0.305235   \n",
       "246             252  69.072711          0.340386  0.155256 -0.389868   \n",
       "247             253  68.128288         -1.008931  0.237524 -0.371460   \n",
       "\n",
       "     Normal Noise  \n",
       "1       -0.056778  \n",
       "2       -0.044713  \n",
       "3        0.001309  \n",
       "4       -0.015467  \n",
       "5       -0.001694  \n",
       "..            ...  \n",
       "243     -0.061492  \n",
       "244     -0.023195  \n",
       "245     -0.045551  \n",
       "246     -0.056916  \n",
       "247     -0.024837  \n",
       "\n",
       "[241 rows x 6 columns]"
      ]
     },
     "execution_count": 22,
     "metadata": {},
     "output_type": "execute_result"
    }
   ],
   "source": [
    "df_shap_values"
   ]
  },
  {
   "cell_type": "code",
   "execution_count": 23,
   "metadata": {
    "execution": {
     "iopub.execute_input": "2022-12-11T14:33:26.888411Z",
     "iopub.status.busy": "2022-12-11T14:33:26.888411Z",
     "iopub.status.idle": "2022-12-11T14:33:26.902431Z",
     "shell.execute_reply": "2022-12-11T14:33:26.901444Z"
    }
   },
   "outputs": [
    {
     "data": {
      "text/plain": [
       "'yield'"
      ]
     },
     "execution_count": 23,
     "metadata": {},
     "output_type": "execute_result"
    }
   ],
   "source": [
    "y.name"
   ]
  },
  {
   "cell_type": "code",
   "execution_count": 24,
   "metadata": {
    "execution": {
     "iopub.execute_input": "2022-12-11T14:33:26.905421Z",
     "iopub.status.busy": "2022-12-11T14:33:26.905421Z",
     "iopub.status.idle": "2022-12-11T14:33:26.918194Z",
     "shell.execute_reply": "2022-12-11T14:33:26.916192Z"
    }
   },
   "outputs": [],
   "source": [
    "# df_shap_values.describe()"
   ]
  },
  {
   "cell_type": "code",
   "execution_count": 25,
   "metadata": {
    "execution": {
     "iopub.execute_input": "2022-12-11T14:33:26.924144Z",
     "iopub.status.busy": "2022-12-11T14:33:26.923137Z",
     "iopub.status.idle": "2022-12-11T14:33:26.933099Z",
     "shell.execute_reply": "2022-12-11T14:33:26.932137Z"
    }
   },
   "outputs": [
    {
     "data": {
      "text/html": [
       "<div>\n",
       "<style scoped>\n",
       "    .dataframe tbody tr th:only-of-type {\n",
       "        vertical-align: middle;\n",
       "    }\n",
       "\n",
       "    .dataframe tbody tr th {\n",
       "        vertical-align: top;\n",
       "    }\n",
       "\n",
       "    .dataframe thead th {\n",
       "        text-align: right;\n",
       "    }\n",
       "</style>\n",
       "<table border=\"1\" class=\"dataframe\">\n",
       "  <thead>\n",
       "    <tr style=\"text-align: right;\">\n",
       "      <th></th>\n",
       "      <th>Tags</th>\n",
       "      <th>mean</th>\n",
       "      <th>std</th>\n",
       "      <th>CoefVariance</th>\n",
       "    </tr>\n",
       "  </thead>\n",
       "  <tbody>\n",
       "    <tr>\n",
       "      <th>0</th>\n",
       "      <td>Diff_PressureC1_</td>\n",
       "      <td>0.448204</td>\n",
       "      <td>0.299130</td>\n",
       "      <td>0.667399</td>\n",
       "    </tr>\n",
       "    <tr>\n",
       "      <th>1</th>\n",
       "      <td>Temp1</td>\n",
       "      <td>0.371157</td>\n",
       "      <td>0.379187</td>\n",
       "      <td>1.021634</td>\n",
       "    </tr>\n",
       "    <tr>\n",
       "      <th>2</th>\n",
       "      <td>FlowC1</td>\n",
       "      <td>0.354543</td>\n",
       "      <td>0.199864</td>\n",
       "      <td>0.563723</td>\n",
       "    </tr>\n",
       "    <tr>\n",
       "      <th>3</th>\n",
       "      <td>FlowC9</td>\n",
       "      <td>0.155293</td>\n",
       "      <td>0.089203</td>\n",
       "      <td>0.574416</td>\n",
       "    </tr>\n",
       "    <tr>\n",
       "      <th>5</th>\n",
       "      <td>Diff_Diff_PressureC1_</td>\n",
       "      <td>0.128313</td>\n",
       "      <td>0.128092</td>\n",
       "      <td>0.998278</td>\n",
       "    </tr>\n",
       "    <tr>\n",
       "      <th>7</th>\n",
       "      <td>Diff_FlowC1</td>\n",
       "      <td>0.075930</td>\n",
       "      <td>0.066981</td>\n",
       "      <td>0.882138</td>\n",
       "    </tr>\n",
       "    <tr>\n",
       "      <th>8</th>\n",
       "      <td>Diff_FlowC9</td>\n",
       "      <td>0.065093</td>\n",
       "      <td>0.038975</td>\n",
       "      <td>0.598763</td>\n",
       "    </tr>\n",
       "    <tr>\n",
       "      <th>10</th>\n",
       "      <td>Normal Noise</td>\n",
       "      <td>0.053279</td>\n",
       "      <td>0.040582</td>\n",
       "      <td>0.761682</td>\n",
       "    </tr>\n",
       "  </tbody>\n",
       "</table>\n",
       "</div>"
      ],
      "text/plain": [
       "                     Tags      mean       std  CoefVariance\n",
       "0        Diff_PressureC1_  0.448204  0.299130      0.667399\n",
       "1                   Temp1  0.371157  0.379187      1.021634\n",
       "2                  FlowC1  0.354543  0.199864      0.563723\n",
       "3                  FlowC9  0.155293  0.089203      0.574416\n",
       "5   Diff_Diff_PressureC1_  0.128313  0.128092      0.998278\n",
       "7             Diff_FlowC1  0.075930  0.066981      0.882138\n",
       "8             Diff_FlowC9  0.065093  0.038975      0.598763\n",
       "10           Normal Noise  0.053279  0.040582      0.761682"
      ]
     },
     "execution_count": 25,
     "metadata": {},
     "output_type": "execute_result"
    }
   ],
   "source": [
    "df_global_shap_values"
   ]
  },
  {
   "cell_type": "code",
   "execution_count": 26,
   "metadata": {
    "execution": {
     "iopub.execute_input": "2022-12-11T14:33:26.935060Z",
     "iopub.status.busy": "2022-12-11T14:33:26.935060Z",
     "iopub.status.idle": "2022-12-11T14:33:26.948001Z",
     "shell.execute_reply": "2022-12-11T14:33:26.947013Z"
    }
   },
   "outputs": [],
   "source": [
    "#df_global_shap_values.describe()"
   ]
  },
  {
   "cell_type": "code",
   "execution_count": 27,
   "metadata": {
    "execution": {
     "iopub.execute_input": "2022-12-11T14:33:26.952980Z",
     "iopub.status.busy": "2022-12-11T14:33:26.951984Z",
     "iopub.status.idle": "2022-12-11T14:33:26.962510Z",
     "shell.execute_reply": "2022-12-11T14:33:26.962510Z"
    },
    "scrolled": false
   },
   "outputs": [
    {
     "data": {
      "text/html": [
       "<div>\n",
       "<style scoped>\n",
       "    .dataframe tbody tr th:only-of-type {\n",
       "        vertical-align: middle;\n",
       "    }\n",
       "\n",
       "    .dataframe tbody tr th {\n",
       "        vertical-align: top;\n",
       "    }\n",
       "\n",
       "    .dataframe thead th {\n",
       "        text-align: right;\n",
       "    }\n",
       "</style>\n",
       "<table border=\"1\" class=\"dataframe\">\n",
       "  <thead>\n",
       "    <tr style=\"text-align: right;\">\n",
       "      <th></th>\n",
       "      <th>SHAP_row_index</th>\n",
       "      <th>yield</th>\n",
       "      <th>tag</th>\n",
       "      <th>shap(value)</th>\n",
       "      <th>value</th>\n",
       "      <th>norm(value)</th>\n",
       "    </tr>\n",
       "  </thead>\n",
       "  <tbody>\n",
       "    <tr>\n",
       "      <th>0</th>\n",
       "      <td>7</td>\n",
       "      <td>69.161052</td>\n",
       "      <td>Diff_PressureC1_</td>\n",
       "      <td>0.273957</td>\n",
       "      <td>0.361600</td>\n",
       "      <td>0.354459</td>\n",
       "    </tr>\n",
       "    <tr>\n",
       "      <th>1</th>\n",
       "      <td>8</td>\n",
       "      <td>71.399191</td>\n",
       "      <td>Diff_PressureC1_</td>\n",
       "      <td>0.278049</td>\n",
       "      <td>0.188000</td>\n",
       "      <td>0.343428</td>\n",
       "    </tr>\n",
       "    <tr>\n",
       "      <th>2</th>\n",
       "      <td>9</td>\n",
       "      <td>70.125880</td>\n",
       "      <td>Diff_PressureC1_</td>\n",
       "      <td>0.297183</td>\n",
       "      <td>-0.257500</td>\n",
       "      <td>0.315118</td>\n",
       "    </tr>\n",
       "    <tr>\n",
       "      <th>3</th>\n",
       "      <td>10</td>\n",
       "      <td>69.726319</td>\n",
       "      <td>Diff_PressureC1_</td>\n",
       "      <td>0.331781</td>\n",
       "      <td>0.034700</td>\n",
       "      <td>0.333686</td>\n",
       "    </tr>\n",
       "    <tr>\n",
       "      <th>4</th>\n",
       "      <td>11</td>\n",
       "      <td>67.777871</td>\n",
       "      <td>Diff_PressureC1_</td>\n",
       "      <td>-1.115175</td>\n",
       "      <td>-4.070100</td>\n",
       "      <td>0.072845</td>\n",
       "    </tr>\n",
       "    <tr>\n",
       "      <th>...</th>\n",
       "      <td>...</td>\n",
       "      <td>...</td>\n",
       "      <td>...</td>\n",
       "      <td>...</td>\n",
       "      <td>...</td>\n",
       "      <td>...</td>\n",
       "    </tr>\n",
       "    <tr>\n",
       "      <th>959</th>\n",
       "      <td>249</td>\n",
       "      <td>69.037071</td>\n",
       "      <td>Normal Noise</td>\n",
       "      <td>-0.061492</td>\n",
       "      <td>-0.829373</td>\n",
       "      <td>0.319339</td>\n",
       "    </tr>\n",
       "    <tr>\n",
       "      <th>960</th>\n",
       "      <td>250</td>\n",
       "      <td>69.202425</td>\n",
       "      <td>Normal Noise</td>\n",
       "      <td>-0.023195</td>\n",
       "      <td>0.387340</td>\n",
       "      <td>0.648740</td>\n",
       "    </tr>\n",
       "    <tr>\n",
       "      <th>961</th>\n",
       "      <td>251</td>\n",
       "      <td>69.409546</td>\n",
       "      <td>Normal Noise</td>\n",
       "      <td>-0.045551</td>\n",
       "      <td>-0.959168</td>\n",
       "      <td>0.284200</td>\n",
       "    </tr>\n",
       "    <tr>\n",
       "      <th>962</th>\n",
       "      <td>252</td>\n",
       "      <td>69.072711</td>\n",
       "      <td>Normal Noise</td>\n",
       "      <td>-0.056916</td>\n",
       "      <td>-0.885372</td>\n",
       "      <td>0.304178</td>\n",
       "    </tr>\n",
       "    <tr>\n",
       "      <th>963</th>\n",
       "      <td>253</td>\n",
       "      <td>68.128288</td>\n",
       "      <td>Normal Noise</td>\n",
       "      <td>-0.024837</td>\n",
       "      <td>0.263346</td>\n",
       "      <td>0.615172</td>\n",
       "    </tr>\n",
       "  </tbody>\n",
       "</table>\n",
       "<p>964 rows × 6 columns</p>\n",
       "</div>"
      ],
      "text/plain": [
       "     SHAP_row_index      yield               tag  shap(value)     value  \\\n",
       "0                 7  69.161052  Diff_PressureC1_     0.273957  0.361600   \n",
       "1                 8  71.399191  Diff_PressureC1_     0.278049  0.188000   \n",
       "2                 9  70.125880  Diff_PressureC1_     0.297183 -0.257500   \n",
       "3                10  69.726319  Diff_PressureC1_     0.331781  0.034700   \n",
       "4                11  67.777871  Diff_PressureC1_    -1.115175 -4.070100   \n",
       "..              ...        ...               ...          ...       ...   \n",
       "959             249  69.037071      Normal Noise    -0.061492 -0.829373   \n",
       "960             250  69.202425      Normal Noise    -0.023195  0.387340   \n",
       "961             251  69.409546      Normal Noise    -0.045551 -0.959168   \n",
       "962             252  69.072711      Normal Noise    -0.056916 -0.885372   \n",
       "963             253  68.128288      Normal Noise    -0.024837  0.263346   \n",
       "\n",
       "     norm(value)  \n",
       "0       0.354459  \n",
       "1       0.343428  \n",
       "2       0.315118  \n",
       "3       0.333686  \n",
       "4       0.072845  \n",
       "..           ...  \n",
       "959     0.319339  \n",
       "960     0.648740  \n",
       "961     0.284200  \n",
       "962     0.304178  \n",
       "963     0.615172  \n",
       "\n",
       "[964 rows x 6 columns]"
      ]
     },
     "execution_count": 27,
     "metadata": {},
     "output_type": "execute_result"
    }
   ],
   "source": [
    "df_shap_plot_table"
   ]
  },
  {
   "cell_type": "code",
   "execution_count": 28,
   "metadata": {
    "execution": {
     "iopub.execute_input": "2022-12-11T14:33:26.965424Z",
     "iopub.status.busy": "2022-12-11T14:33:26.965424Z",
     "iopub.status.idle": "2022-12-11T14:33:26.978847Z",
     "shell.execute_reply": "2022-12-11T14:33:26.977837Z"
    }
   },
   "outputs": [],
   "source": [
    "#df_shap_plot_table.describe()"
   ]
  },
  {
   "cell_type": "markdown",
   "metadata": {},
   "source": [
    "# UMAP Dimensionality reduction for selected inputs"
   ]
  },
  {
   "cell_type": "code",
   "execution_count": 29,
   "metadata": {
    "execution": {
     "iopub.execute_input": "2022-12-11T14:33:26.982833Z",
     "iopub.status.busy": "2022-12-11T14:33:26.982833Z",
     "iopub.status.idle": "2022-12-11T14:33:26.993769Z",
     "shell.execute_reply": "2022-12-11T14:33:26.992726Z"
    }
   },
   "outputs": [
    {
     "data": {
      "text/html": [
       "<div>\n",
       "<style scoped>\n",
       "    .dataframe tbody tr th:only-of-type {\n",
       "        vertical-align: middle;\n",
       "    }\n",
       "\n",
       "    .dataframe tbody tr th {\n",
       "        vertical-align: top;\n",
       "    }\n",
       "\n",
       "    .dataframe thead th {\n",
       "        text-align: right;\n",
       "    }\n",
       "</style>\n",
       "<table border=\"1\" class=\"dataframe\">\n",
       "  <thead>\n",
       "    <tr style=\"text-align: right;\">\n",
       "      <th></th>\n",
       "      <th>Diff_PressureC1_</th>\n",
       "      <th>Temp1</th>\n",
       "      <th>FlowC1</th>\n",
       "      <th>Normal Noise</th>\n",
       "    </tr>\n",
       "  </thead>\n",
       "  <tbody>\n",
       "    <tr>\n",
       "      <th>1</th>\n",
       "      <td>0.3616</td>\n",
       "      <td>120.8903</td>\n",
       "      <td>493.8452</td>\n",
       "      <td>-0.971524</td>\n",
       "    </tr>\n",
       "    <tr>\n",
       "      <th>2</th>\n",
       "      <td>0.1880</td>\n",
       "      <td>119.4786</td>\n",
       "      <td>429.0580</td>\n",
       "      <td>0.251598</td>\n",
       "    </tr>\n",
       "    <tr>\n",
       "      <th>3</th>\n",
       "      <td>-0.2575</td>\n",
       "      <td>124.8390</td>\n",
       "      <td>414.0616</td>\n",
       "      <td>0.010222</td>\n",
       "    </tr>\n",
       "    <tr>\n",
       "      <th>4</th>\n",
       "      <td>0.0347</td>\n",
       "      <td>121.6020</td>\n",
       "      <td>505.6681</td>\n",
       "      <td>0.312907</td>\n",
       "    </tr>\n",
       "    <tr>\n",
       "      <th>5</th>\n",
       "      <td>-4.0701</td>\n",
       "      <td>NaN</td>\n",
       "      <td>498.9423</td>\n",
       "      <td>-0.554541</td>\n",
       "    </tr>\n",
       "  </tbody>\n",
       "</table>\n",
       "</div>"
      ],
      "text/plain": [
       "   Diff_PressureC1_     Temp1    FlowC1  Normal Noise\n",
       "1            0.3616  120.8903  493.8452     -0.971524\n",
       "2            0.1880  119.4786  429.0580      0.251598\n",
       "3           -0.2575  124.8390  414.0616      0.010222\n",
       "4            0.0347  121.6020  505.6681      0.312907\n",
       "5           -4.0701       NaN  498.9423     -0.554541"
      ]
     },
     "execution_count": 29,
     "metadata": {},
     "output_type": "execute_result"
    }
   ],
   "source": [
    "# X has already the RF selected features ordered by importance\n",
    "X.head()"
   ]
  },
  {
   "cell_type": "code",
   "execution_count": 30,
   "metadata": {
    "execution": {
     "iopub.execute_input": "2022-12-11T14:33:26.996744Z",
     "iopub.status.busy": "2022-12-11T14:33:26.996744Z",
     "iopub.status.idle": "2022-12-11T14:33:33.898090Z",
     "shell.execute_reply": "2022-12-11T14:33:33.898090Z"
    }
   },
   "outputs": [
    {
     "name": "stdout",
     "output_type": "stream",
     "text": [
      "N of umap dimensions 2\n",
      "Distance metric: euclidean\n",
      "N of rows for finite differences 1\n"
     ]
    },
    {
     "data": {
      "image/png": "[encoded data removed]",
      "text/plain": [
       "<Figure size 800x800 with 1 Axes>"
      ]
     },
     "metadata": {},
     "output_type": "display_data"
    }
   ],
   "source": [
    "# Function was defined above\n",
    "\n",
    "if not(is_unspervised_learning):\n",
    "    n_umap_components = int(JMP_user_parameters['NdimUMAP'])\n",
    "    distance = str(JMP_user_parameters['metric'][0])\n",
    "    \n",
    "    df_umap, n_umap_components = umap_princ_components(X, n_umap_components, distance)"
   ]
  },
  {
   "cell_type": "code",
   "execution_count": 31,
   "metadata": {
    "execution": {
     "iopub.execute_input": "2022-12-11T14:33:33.902077Z",
     "iopub.status.busy": "2022-12-11T14:33:33.901080Z",
     "iopub.status.idle": "2022-12-11T14:33:33.913494Z",
     "shell.execute_reply": "2022-12-11T14:33:33.913494Z"
    }
   },
   "outputs": [],
   "source": [
    "# DO NOT EDIT THIS CELL\n",
    "\n",
    "# This file is generated only if all the notebook was executed correctly\n",
    "# JMP will stop if doesn't find it\n",
    "python_execution_check_csv = os.path.join(temp_data_path,'python_execution.csv')\n",
    "\n",
    "try:\n",
    "    os.remove(python_execution_check_csv)\n",
    "except:\n",
    "    print('Generating file to confirm python execution')\n",
    "\n",
    "pd.DataFrame({'Python': [1]}).to_csv(python_execution_check_csv)"
   ]
  },
  {
   "cell_type": "markdown",
   "metadata": {},
   "source": [
    "#  END"
   ]
  }
 ],
 "metadata": {
  "kernelspec": {
   "display_name": "Python 3 (ipykernel)",
   "language": "python",
   "name": "python3"
  },
  "language_info": {
   "codemirror_mode": {
    "name": "ipython",
    "version": 3
   },
   "file_extension": ".py",
   "mimetype": "text/x-python",
   "name": "python",
   "nbconvert_exporter": "python",
   "pygments_lexer": "ipython3",
   "version": "3.10.6"
  }
 },
 "nbformat": 4,
 "nbformat_minor": 4
}
